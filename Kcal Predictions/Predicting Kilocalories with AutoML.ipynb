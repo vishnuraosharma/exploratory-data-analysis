{
 "cells": [
  {
   "cell_type": "markdown",
   "source": [
    "# H20 AutoML Kilocalorie Regression"
   ],
   "metadata": {
    "collapsed": false
   },
   "id": "a80717eef955252f"
  },
  {
   "cell_type": "markdown",
   "source": [
    "## Abstract\n",
    "This notebook is a simple example of using H20 AutoML to predict the kilocalories of common foods based on its nutritional composition. \n",
    "\n",
    "The model is trained using H20 AutoML and the best model is selected based on the root mean squared error (RMSE) of the test set. \n",
    "\n",
    "This research found that the best model to predict the kilocalories "
   ],
   "metadata": {
    "collapsed": false
   },
   "id": "ac2de3c2c6cf8067"
  },
  {
   "cell_type": "markdown",
   "source": [
    "## Modeling with AutoML \n",
    "H2O will speed up some of the basic data processing steps, feature engineering, and model testing so I can focus on determing the best model for this dataset."
   ],
   "metadata": {
    "collapsed": false
   },
   "id": "a399ad1ac270523e"
  },
  {
   "cell_type": "code",
   "execution_count": 56,
   "outputs": [
    {
     "name": "stdout",
     "output_type": "stream",
     "text": [
      "Requirement already satisfied: requests in /Users/vraosharma/Desktop/Python/DSEMT/exploratory-data-analysis/venv/lib/python3.10/site-packages (2.31.0)\r\n",
      "Requirement already satisfied: charset-normalizer<4,>=2 in /Users/vraosharma/Desktop/Python/DSEMT/exploratory-data-analysis/venv/lib/python3.10/site-packages (from requests) (3.3.1)\r\n",
      "Requirement already satisfied: idna<4,>=2.5 in /Users/vraosharma/Desktop/Python/DSEMT/exploratory-data-analysis/venv/lib/python3.10/site-packages (from requests) (3.4)\r\n",
      "Requirement already satisfied: urllib3<3,>=1.21.1 in /Users/vraosharma/Desktop/Python/DSEMT/exploratory-data-analysis/venv/lib/python3.10/site-packages (from requests) (2.0.7)\r\n",
      "Requirement already satisfied: certifi>=2017.4.17 in /Users/vraosharma/Desktop/Python/DSEMT/exploratory-data-analysis/venv/lib/python3.10/site-packages (from requests) (2023.7.22)\r\n",
      "\r\n",
      "\u001B[1m[\u001B[0m\u001B[34;49mnotice\u001B[0m\u001B[1;39;49m]\u001B[0m\u001B[39;49m A new release of pip is available: \u001B[0m\u001B[31;49m23.2.1\u001B[0m\u001B[39;49m -> \u001B[0m\u001B[32;49m23.3.1\u001B[0m\r\n",
      "\u001B[1m[\u001B[0m\u001B[34;49mnotice\u001B[0m\u001B[1;39;49m]\u001B[0m\u001B[39;49m To update, run: \u001B[0m\u001B[32;49mpip install --upgrade pip\u001B[0m\r\n",
      "Requirement already satisfied: tabulate in /Users/vraosharma/Desktop/Python/DSEMT/exploratory-data-analysis/venv/lib/python3.10/site-packages (0.9.0)\r\n",
      "\r\n",
      "\u001B[1m[\u001B[0m\u001B[34;49mnotice\u001B[0m\u001B[1;39;49m]\u001B[0m\u001B[39;49m A new release of pip is available: \u001B[0m\u001B[31;49m23.2.1\u001B[0m\u001B[39;49m -> \u001B[0m\u001B[32;49m23.3.1\u001B[0m\r\n",
      "\u001B[1m[\u001B[0m\u001B[34;49mnotice\u001B[0m\u001B[1;39;49m]\u001B[0m\u001B[39;49m To update, run: \u001B[0m\u001B[32;49mpip install --upgrade pip\u001B[0m\r\n",
      "Requirement already satisfied: colorama>=0.3.8 in /Users/vraosharma/Desktop/Python/DSEMT/exploratory-data-analysis/venv/lib/python3.10/site-packages (0.4.6)\r\n",
      "\r\n",
      "\u001B[1m[\u001B[0m\u001B[34;49mnotice\u001B[0m\u001B[1;39;49m]\u001B[0m\u001B[39;49m A new release of pip is available: \u001B[0m\u001B[31;49m23.2.1\u001B[0m\u001B[39;49m -> \u001B[0m\u001B[32;49m23.3.1\u001B[0m\r\n",
      "\u001B[1m[\u001B[0m\u001B[34;49mnotice\u001B[0m\u001B[1;39;49m]\u001B[0m\u001B[39;49m To update, run: \u001B[0m\u001B[32;49mpip install --upgrade pip\u001B[0m\r\n",
      "Requirement already satisfied: future in /Users/vraosharma/Desktop/Python/DSEMT/exploratory-data-analysis/venv/lib/python3.10/site-packages (0.18.3)\r\n",
      "\r\n",
      "\u001B[1m[\u001B[0m\u001B[34;49mnotice\u001B[0m\u001B[1;39;49m]\u001B[0m\u001B[39;49m A new release of pip is available: \u001B[0m\u001B[31;49m23.2.1\u001B[0m\u001B[39;49m -> \u001B[0m\u001B[32;49m23.3.1\u001B[0m\r\n",
      "\u001B[1m[\u001B[0m\u001B[34;49mnotice\u001B[0m\u001B[1;39;49m]\u001B[0m\u001B[39;49m To update, run: \u001B[0m\u001B[32;49mpip install --upgrade pip\u001B[0m\r\n"
     ]
    }
   ],
   "source": [
    "!pip install requests\n",
    "!pip install tabulate\n",
    "!pip install \"colorama>=0.3.8\"\n",
    "!pip install future"
   ],
   "metadata": {
    "collapsed": false,
    "ExecuteTime": {
     "end_time": "2023-10-25T23:07:44.937747Z",
     "start_time": "2023-10-25T23:07:41.826494Z"
    }
   },
   "id": "92e636ff094dc568"
  },
  {
   "cell_type": "code",
   "execution_count": 57,
   "outputs": [
    {
     "name": "stdout",
     "output_type": "stream",
     "text": [
      "Looking in links: http://h2o-release.s3.amazonaws.com/h2o/latest_stable_Py.html\r\n",
      "Requirement already satisfied: h2o in /Users/vraosharma/Desktop/Python/DSEMT/exploratory-data-analysis/venv/lib/python3.10/site-packages (3.44.0.1)\r\n",
      "Requirement already satisfied: requests in /Users/vraosharma/Desktop/Python/DSEMT/exploratory-data-analysis/venv/lib/python3.10/site-packages (from h2o) (2.31.0)\r\n",
      "Requirement already satisfied: tabulate in /Users/vraosharma/Desktop/Python/DSEMT/exploratory-data-analysis/venv/lib/python3.10/site-packages (from h2o) (0.9.0)\r\n",
      "Requirement already satisfied: charset-normalizer<4,>=2 in /Users/vraosharma/Desktop/Python/DSEMT/exploratory-data-analysis/venv/lib/python3.10/site-packages (from requests->h2o) (3.3.1)\r\n",
      "Requirement already satisfied: idna<4,>=2.5 in /Users/vraosharma/Desktop/Python/DSEMT/exploratory-data-analysis/venv/lib/python3.10/site-packages (from requests->h2o) (3.4)\r\n",
      "Requirement already satisfied: urllib3<3,>=1.21.1 in /Users/vraosharma/Desktop/Python/DSEMT/exploratory-data-analysis/venv/lib/python3.10/site-packages (from requests->h2o) (2.0.7)\r\n",
      "Requirement already satisfied: certifi>=2017.4.17 in /Users/vraosharma/Desktop/Python/DSEMT/exploratory-data-analysis/venv/lib/python3.10/site-packages (from requests->h2o) (2023.7.22)\r\n",
      "\r\n",
      "\u001B[1m[\u001B[0m\u001B[34;49mnotice\u001B[0m\u001B[1;39;49m]\u001B[0m\u001B[39;49m A new release of pip is available: \u001B[0m\u001B[31;49m23.2.1\u001B[0m\u001B[39;49m -> \u001B[0m\u001B[32;49m23.3.1\u001B[0m\r\n",
      "\u001B[1m[\u001B[0m\u001B[34;49mnotice\u001B[0m\u001B[1;39;49m]\u001B[0m\u001B[39;49m To update, run: \u001B[0m\u001B[32;49mpip install --upgrade pip\u001B[0m\r\n"
     ]
    }
   ],
   "source": [
    "!pip3 install -f http://h2o-release.s3.amazonaws.com/h2o/latest_stable_Py.html h2o"
   ],
   "metadata": {
    "collapsed": false,
    "ExecuteTime": {
     "end_time": "2023-10-25T23:07:46.762065Z",
     "start_time": "2023-10-25T23:07:44.940575Z"
    }
   },
   "id": "f329abb9055d55c9"
  },
  {
   "cell_type": "code",
   "execution_count": 58,
   "outputs": [],
   "source": [
    "# Importing necessary libraries\n",
    "import h2o\n",
    "from h2o.automl import H2OAutoML\n",
    "import random, os, sys\n",
    "import psutil\n",
    "import random\n",
    "import logging\n",
    "import pandas as pd"
   ],
   "metadata": {
    "collapsed": false,
    "ExecuteTime": {
     "end_time": "2023-10-25T23:07:46.768454Z",
     "start_time": "2023-10-25T23:07:46.763752Z"
    }
   },
   "id": "ac045234afc22ec2"
  },
  {
   "cell_type": "markdown",
   "source": [
    "## Virtual Machine Configuration"
   ],
   "metadata": {
    "collapsed": false
   },
   "id": "4fced4695a1fa425"
  },
  {
   "cell_type": "code",
   "execution_count": 59,
   "outputs": [],
   "source": [
    "min_mem_size=6 \n",
    "run_time=222"
   ],
   "metadata": {
    "collapsed": false,
    "ExecuteTime": {
     "end_time": "2023-10-25T23:07:46.768677Z",
     "start_time": "2023-10-25T23:07:46.766611Z"
    }
   },
   "id": "e4d0c90579cee19f"
  },
  {
   "cell_type": "code",
   "execution_count": 60,
   "outputs": [
    {
     "name": "stdout",
     "output_type": "stream",
     "text": [
      "1\n"
     ]
    }
   ],
   "source": [
    "pct_memory=0.5\n",
    "virtual_memory=psutil.virtual_memory()\n",
    "min_mem_size=int(round(int(pct_memory*virtual_memory.available)/1073741824,0))\n",
    "print(min_mem_size)"
   ],
   "metadata": {
    "collapsed": false,
    "ExecuteTime": {
     "end_time": "2023-10-25T23:07:46.774563Z",
     "start_time": "2023-10-25T23:07:46.771314Z"
    }
   },
   "id": "9857a8042b31659a"
  },
  {
   "cell_type": "code",
   "execution_count": 61,
   "outputs": [
    {
     "name": "stdout",
     "output_type": "stream",
     "text": [
      "Checking whether there is an H2O instance running at http://localhost:14155..... not found.\n",
      "Attempting to start a local H2O server...\n",
      "  Java Version: openjdk version \"17.0.4\" 2022-07-19; OpenJDK Runtime Environment Temurin-17.0.4+8 (build 17.0.4+8); OpenJDK 64-Bit Server VM Temurin-17.0.4+8 (build 17.0.4+8, mixed mode)\n",
      "  Starting server from /Users/vraosharma/Desktop/Python/DSEMT/exploratory-data-analysis/venv/lib/python3.10/site-packages/h2o/backend/bin/h2o.jar\n",
      "  Ice root: /var/folders/36/syxnttfx02z8nxmjh2_llhnr0000gn/T/tmp92x53rmf\n",
      "  JVM stdout: /var/folders/36/syxnttfx02z8nxmjh2_llhnr0000gn/T/tmp92x53rmf/h2o_vraosharma_started_from_python.out\n",
      "  JVM stderr: /var/folders/36/syxnttfx02z8nxmjh2_llhnr0000gn/T/tmp92x53rmf/h2o_vraosharma_started_from_python.err\n",
      "  Server is running at http://127.0.0.1:14155\n",
      "Connecting to H2O server at http://127.0.0.1:14155 ... successful.\n"
     ]
    },
    {
     "data": {
      "text/plain": "--------------------------  ---------------------------------\nH2O_cluster_uptime:         02 secs\nH2O_cluster_timezone:       America/New_York\nH2O_data_parsing_timezone:  UTC\nH2O_cluster_version:        3.44.0.1\nH2O_cluster_version_age:    9 days\nH2O_cluster_name:           H2O_from_python_vraosharma_yf59gw\nH2O_cluster_total_nodes:    1\nH2O_cluster_free_memory:    4 Gb\nH2O_cluster_total_cores:    8\nH2O_cluster_allowed_cores:  8\nH2O_cluster_status:         locked, healthy\nH2O_connection_url:         http://127.0.0.1:14155\nH2O_connection_proxy:       {\"http\": null, \"https\": null}\nH2O_internal_security:      False\nPython_version:             3.10.6 final\n--------------------------  ---------------------------------",
      "text/html": "\n<style>\n\n#h2o-table-6.h2o-container {\n  overflow-x: auto;\n}\n#h2o-table-6 .h2o-table {\n  /* width: 100%; */\n  margin-top: 1em;\n  margin-bottom: 1em;\n}\n#h2o-table-6 .h2o-table caption {\n  white-space: nowrap;\n  caption-side: top;\n  text-align: left;\n  /* margin-left: 1em; */\n  margin: 0;\n  font-size: larger;\n}\n#h2o-table-6 .h2o-table thead {\n  white-space: nowrap; \n  position: sticky;\n  top: 0;\n  box-shadow: 0 -1px inset;\n}\n#h2o-table-6 .h2o-table tbody {\n  overflow: auto;\n}\n#h2o-table-6 .h2o-table th,\n#h2o-table-6 .h2o-table td {\n  text-align: right;\n  /* border: 1px solid; */\n}\n#h2o-table-6 .h2o-table tr:nth-child(even) {\n  /* background: #F5F5F5 */\n}\n\n</style>      \n<div id=\"h2o-table-6\" class=\"h2o-container\">\n  <table class=\"h2o-table\">\n    <caption></caption>\n    <thead></thead>\n    <tbody><tr><td>H2O_cluster_uptime:</td>\n<td>02 secs</td></tr>\n<tr><td>H2O_cluster_timezone:</td>\n<td>America/New_York</td></tr>\n<tr><td>H2O_data_parsing_timezone:</td>\n<td>UTC</td></tr>\n<tr><td>H2O_cluster_version:</td>\n<td>3.44.0.1</td></tr>\n<tr><td>H2O_cluster_version_age:</td>\n<td>9 days</td></tr>\n<tr><td>H2O_cluster_name:</td>\n<td>H2O_from_python_vraosharma_yf59gw</td></tr>\n<tr><td>H2O_cluster_total_nodes:</td>\n<td>1</td></tr>\n<tr><td>H2O_cluster_free_memory:</td>\n<td>4 Gb</td></tr>\n<tr><td>H2O_cluster_total_cores:</td>\n<td>8</td></tr>\n<tr><td>H2O_cluster_allowed_cores:</td>\n<td>8</td></tr>\n<tr><td>H2O_cluster_status:</td>\n<td>locked, healthy</td></tr>\n<tr><td>H2O_connection_url:</td>\n<td>http://127.0.0.1:14155</td></tr>\n<tr><td>H2O_connection_proxy:</td>\n<td>{\"http\": null, \"https\": null}</td></tr>\n<tr><td>H2O_internal_security:</td>\n<td>False</td></tr>\n<tr><td>Python_version:</td>\n<td>3.10.6 final</td></tr></tbody>\n  </table>\n</div>\n"
     },
     "metadata": {},
     "output_type": "display_data"
    }
   ],
   "source": [
    "port_no=random.randint(5555,55555)\n",
    "try:\n",
    "  h2o.init(strict_version_check=False,min_mem_size_GB=min_mem_size,port=port_no) # start h2o\n",
    "except:\n",
    "  logging.critical('h2o.init')\n",
    "  h2o.download_all_logs(dirname=logs_path, filename=logfile)    \n",
    "  h2o.cluster().shutdown()\n",
    "  sys.exit(2)"
   ],
   "metadata": {
    "collapsed": false,
    "ExecuteTime": {
     "end_time": "2023-10-25T23:07:50.909419Z",
     "start_time": "2023-10-25T23:07:46.776378Z"
    }
   },
   "id": "ebe27e899fbcce9b"
  },
  {
   "cell_type": "markdown",
   "source": [
    "## Re-acquainting ourselves with the data\n",
    "This project is a continuation of my last, so I'll be using the [Food Nutrition Dataset](https://www.kaggle.com/datasets/shrutisaxena/food-nutrition-dataset?resource=download&select=food.csv) (which is based on the USDA's [FoodData Central database](https://fdc.nal.usda.gov/fdc-app.html#/)) used in my Predicting Kilocalories with Linear Regression notebook (check that out first to see the profile of the data). Special thanks to SHRUTI SAXENA for compiling this dataset."
   ],
   "metadata": {
    "collapsed": false
   },
   "id": "88dcebc040abf08e"
  },
  {
   "cell_type": "code",
   "execution_count": 62,
   "outputs": [
    {
     "name": "stdout",
     "output_type": "stream",
     "text": [
      "zsh:1: command not found: wget\r\n"
     ]
    }
   ],
   "source": [
    "# Addding the dataset from github https://github.com/vraosharma-northeastern/exploratory-data-analysis/blob/main/Nutrition%20/food.csv\n",
    "!wget https://raw.githubusercontent.com/vraosharma-northeastern/exploratory-data-analysis/main/Nutrition%20/food.csv"
   ],
   "metadata": {
    "collapsed": false,
    "ExecuteTime": {
     "end_time": "2023-10-25T23:07:51.044106Z",
     "start_time": "2023-10-25T23:07:50.909890Z"
    }
   },
   "id": "2ea67f594450d5db"
  },
  {
   "cell_type": "code",
   "execution_count": 65,
   "outputs": [
    {
     "name": "stdout",
     "output_type": "stream",
     "text": [
      "Parse progress: |████████████████████████████████████████████████████████████████| (done) 100%\n"
     ]
    }
   ],
   "source": [
    "url = \"https://raw.githubusercontent.com/vishnuraosharma/exploratory-data-analysis/main/Nutrition%20/food.csv\"\n",
    "df = h2o.import_file(path = url)"
   ],
   "metadata": {
    "collapsed": false,
    "ExecuteTime": {
     "end_time": "2023-10-25T23:12:07.545242Z",
     "start_time": "2023-10-25T23:12:05.372402Z"
    }
   },
   "id": "e72e5bbd9ef02346"
  },
  {
   "cell_type": "code",
   "execution_count": 67,
   "outputs": [
    {
     "data": {
      "text/plain": "Category    Description                 Nutrient Data Bank Number    Data.Alpha Carotene    Data.Ash    Data.Beta Carotene    Data.Beta Cryptoxanthin    Data.Carbohydrate    Data.Cholesterol    Data.Choline    Data.Fiber    Data.Kilocalories    Data.Lutein and Zeaxanthin    Data.Lycopene    Data.Manganese    Data.Niacin    Data.Pantothenic Acid    Data.Protein    Data.Refuse Percentage    Data.Retinol    Data.Riboflavin    Data.Selenium    Data.Sugar Total    Data.Thiamin    Data.Water    Data.Fat.Monosaturated Fat    Data.Fat.Polysaturated Fat    Data.Fat.Saturated Fat    Data.Fat.Total Lipid    Data.Household Weights.1st Household Weight  Data.Household Weights.1st Household Weight Description      Data.Household Weights.2nd Household Weight  Data.Household Weights.2nd Household Weight Description      Data.Major Minerals.Calcium    Data.Major Minerals.Copper    Data.Major Minerals.Iron    Data.Major Minerals.Magnesium    Data.Major Minerals.Phosphorus    Data.Major Minerals.Potassium    Data.Major Minerals.Sodium    Data.Major Minerals.Zinc    Data.Vitamins.Vitamin A - IU    Data.Vitamins.Vitamin A - RAE    Data.Vitamins.Vitamin B12    Data.Vitamins.Vitamin B6    Data.Vitamins.Vitamin C    Data.Vitamins.Vitamin E    Data.Vitamins.Vitamin K\n----------  ------------------------  ---------------------------  ---------------------  ----------  --------------------  -------------------------  -------------------  ------------------  --------------  ------------  -------------------  ----------------------------  ---------------  ----------------  -------------  -----------------------  --------------  ------------------------  --------------  -----------------  ---------------  ------------------  --------------  ------------  ----------------------------  ----------------------------  ------------------------  ----------------------  ---------------------------------------------  ---------------------------------------------------------  ---------------------------------------------  ---------------------------------------------------------  -----------------------------  ----------------------------  --------------------------  -------------------------------  --------------------------------  -------------------------------  ----------------------------  --------------------------  ------------------------------  -------------------------------  ---------------------------  --------------------------  -------------------------  -------------------------  -------------------------\nBUTTER      BUTTER,WITH SALT                                 1001                      0        2.11                   158                          0                 0.06                 215              19             0                  717                             0                0             0              0.042                    0.11             0.85                         0             671              0.034              1                  0.06           0.005         15.87                        21.021                         3.043                    51.368                   81.11                                         227     1 cup                                                                                                 14  1 tbsp                                                                                24                         0                            0.02                                2                                24                               24                           576                        0.09                            2499                              684                         0.17                       0.003                          0                       2.32                        7\nBUTTER      BUTTER,WHIPPED,WITH SALT                         1002                      0        2.11                   158                          0                 0.06                 219              19             0                  717                             0                0             0.004          0.042                    0.11             0.85                         0             671              0.034              1                  0.06           0.005         15.87                        23.426                         3.012                    50.489                   81.11                                         151     1 cup                                                                                                  9  1 tbsp                                                                                24                         0.016                        0.16                                2                                23                               26                           827                        0.05                            2499                              684                         0.13                       0.003                          0                       2.32                        7\nBUTTER OIL  BUTTER OIL,ANHYDROUS                             1003                      0        0                      193                          0                 0                    256              22             0                  876                             0                0             0              0.003                    0.01             0.28                         0             824              0.005              0                  0              0.001          0.24                        28.732                         3.694                    61.924                   99.48                                         205     1 cup                                                                                                 13  1 tbsp                                                                                 4                         0.001                        0                                   0                                 3                                5                             2                        0.01                            3069                              840                         0.01                       0.001                          0                       2.8                         8.6\nCHEESE      CHEESE,BLUE                                      1004                      0        5.11                    74                          0                 2.34                  75              15             0                  353                             0                0             0.009          1.016                    1.729           21.4                          0             192              0.382             14.5                0.5            0.029         42.41                         7.778                         0.8                      18.669                   28.74                                          28.35  1 oz                                                                                                  17  1 cubic inch                                                                         528                         0.04                         0.31                               23                               387                              256                          1395                        2.66                             763                              198                         1.22                       0.166                          0                       0.25                        2.4\nCHEESE      CHEESE,BRICK                                     1005                      0        3.18                    76                          0                 2.79                  94              15             0                  371                             0                0             0.012          0.118                    0.288           23.24                         0             286              0.351             14.5                0.51           0.014         41.11                         8.598                         0.784                    18.764                   29.68                                         132     1 cup, diced                                                                                         113  1 cup, shredded                                                                      674                         0.024                        0.43                               24                               451                              136                           560                        2.6                             1080                              292                         1.26                       0.065                          0                       0.26                        2.5\nCHEESE      CHEESE,BRIE                                      1006                      0        2.7                      9                          0                 0.45                 100              15             0                  334                             0                0             0.034          0.38                     0.69            20.75                         0             173              0.52              14.5                0.45           0.07          48.42                         8.013                         0.826                    17.41                    27.68                                         240     1 cup, melted                                                                                        144  1 cup, sliced                                                                        184                         0.019                        0.5                                20                               188                              152                           629                        2.38                             592                              174                         1.65                       0.235                          0                       0.24                        2.3\nCHEESE      CHEESE,CAMEMBERT                                 1007                      0        3.68                    12                          0                 0.46                  72              15             0                  300                             0                0             0.038          0.63                     1.364           19.8                          0             240              0.488             14.5                0.46           0.028         51.8                          7.023                         0.724                    15.259                   24.26                                         246     1 cup                                                                                                 28  1 oz                                                                                 388                         0.021                        0.33                               20                               347                              187                           842                        2.38                             820                              241                         1.3                        0.227                          0                       0.21                        2\nCHEESE      CHEESE,CARAWAY                                   1008                      0        3.28                     0                          0                 3.06                  93               0             0                  376                             0                0             0.021          0.18                     0.19            25.18                         0             262              0.45              14.5                0              0.031         39.28                         8.275                         0.83                     18.584                   29.2                                           28.35  1 oz                                                                                                   0                                                                                       673                         0.024                        0.64                               22                               490                               93                           690                        2.94                            1054                              271                         0.27                       0.074                          0                       0                           0\nCHEESE      CHEESE,CHEDDAR                                   1009                      0        3.93                    85                          0                 1.28                 105              16             0                  403                             0                0             0.01           0.08                     0.413           24.9                          0             258              0.375             13.9                0.52           0.027         36.75                         9.391                         0.942                    21.092                   33.14                                         132     1 cup, diced                                                                                         244  1 cup, melted                                                                        721                         0.031                        0.68                               28                               512                               98                           621                        3.11                            1002                              265                         0.83                       0.074                          0                       0.29                        2.8\nCHEESE      CHEESE,CHESHIRE                                  1010                      0        3.6                      0                          0                 4.78                 103               0             0                  387                             0                0             0.012          0.08                     0.413           23.37                         0             220              0.293             14.5                0              0.046         37.65                         8.671                         0.87                     19.475                   30.6                                           28.35  1 oz                                                                                                   0                                                                                       643                         0.042                        0.21                               21                               464                               95                           700                        2.79                             985                              233                         0.83                       0.074                          0                       0                           0\n[10 rows x 48 columns]\n",
      "text/html": "<table class='dataframe'>\n<thead>\n<tr><th>Category  </th><th>Description             </th><th style=\"text-align: right;\">  Nutrient Data Bank Number</th><th style=\"text-align: right;\">  Data.Alpha Carotene</th><th style=\"text-align: right;\">  Data.Ash</th><th style=\"text-align: right;\">  Data.Beta Carotene</th><th style=\"text-align: right;\">  Data.Beta Cryptoxanthin</th><th style=\"text-align: right;\">  Data.Carbohydrate</th><th style=\"text-align: right;\">  Data.Cholesterol</th><th style=\"text-align: right;\">  Data.Choline</th><th style=\"text-align: right;\">  Data.Fiber</th><th style=\"text-align: right;\">  Data.Kilocalories</th><th style=\"text-align: right;\">  Data.Lutein and Zeaxanthin</th><th style=\"text-align: right;\">  Data.Lycopene</th><th style=\"text-align: right;\">  Data.Manganese</th><th style=\"text-align: right;\">  Data.Niacin</th><th style=\"text-align: right;\">  Data.Pantothenic Acid</th><th style=\"text-align: right;\">  Data.Protein</th><th style=\"text-align: right;\">  Data.Refuse Percentage</th><th style=\"text-align: right;\">  Data.Retinol</th><th style=\"text-align: right;\">  Data.Riboflavin</th><th style=\"text-align: right;\">  Data.Selenium</th><th style=\"text-align: right;\">  Data.Sugar Total</th><th style=\"text-align: right;\">  Data.Thiamin</th><th style=\"text-align: right;\">  Data.Water</th><th style=\"text-align: right;\">  Data.Fat.Monosaturated Fat</th><th style=\"text-align: right;\">  Data.Fat.Polysaturated Fat</th><th style=\"text-align: right;\">  Data.Fat.Saturated Fat</th><th style=\"text-align: right;\">  Data.Fat.Total Lipid</th><th style=\"text-align: right;\">  Data.Household Weights.1st Household Weight</th><th>Data.Household Weights.1st Household Weight Description  </th><th style=\"text-align: right;\">  Data.Household Weights.2nd Household Weight</th><th>Data.Household Weights.2nd Household Weight Description  </th><th style=\"text-align: right;\">  Data.Major Minerals.Calcium</th><th style=\"text-align: right;\">  Data.Major Minerals.Copper</th><th style=\"text-align: right;\">  Data.Major Minerals.Iron</th><th style=\"text-align: right;\">  Data.Major Minerals.Magnesium</th><th style=\"text-align: right;\">  Data.Major Minerals.Phosphorus</th><th style=\"text-align: right;\">  Data.Major Minerals.Potassium</th><th style=\"text-align: right;\">  Data.Major Minerals.Sodium</th><th style=\"text-align: right;\">  Data.Major Minerals.Zinc</th><th style=\"text-align: right;\">  Data.Vitamins.Vitamin A - IU</th><th style=\"text-align: right;\">  Data.Vitamins.Vitamin A - RAE</th><th style=\"text-align: right;\">  Data.Vitamins.Vitamin B12</th><th style=\"text-align: right;\">  Data.Vitamins.Vitamin B6</th><th style=\"text-align: right;\">  Data.Vitamins.Vitamin C</th><th style=\"text-align: right;\">  Data.Vitamins.Vitamin E</th><th style=\"text-align: right;\">  Data.Vitamins.Vitamin K</th></tr>\n</thead>\n<tbody>\n<tr><td>BUTTER    </td><td>BUTTER,WITH SALT        </td><td style=\"text-align: right;\">                       1001</td><td style=\"text-align: right;\">                    0</td><td style=\"text-align: right;\">      2.11</td><td style=\"text-align: right;\">                 158</td><td style=\"text-align: right;\">                        0</td><td style=\"text-align: right;\">               0.06</td><td style=\"text-align: right;\">               215</td><td style=\"text-align: right;\">            19</td><td style=\"text-align: right;\">           0</td><td style=\"text-align: right;\">                717</td><td style=\"text-align: right;\">                           0</td><td style=\"text-align: right;\">              0</td><td style=\"text-align: right;\">           0    </td><td style=\"text-align: right;\">        0.042</td><td style=\"text-align: right;\">                  0.11 </td><td style=\"text-align: right;\">          0.85</td><td style=\"text-align: right;\">                       0</td><td style=\"text-align: right;\">           671</td><td style=\"text-align: right;\">            0.034</td><td style=\"text-align: right;\">            1  </td><td style=\"text-align: right;\">              0.06</td><td style=\"text-align: right;\">         0.005</td><td style=\"text-align: right;\">       15.87</td><td style=\"text-align: right;\">                      21.021</td><td style=\"text-align: right;\">                       3.043</td><td style=\"text-align: right;\">                  51.368</td><td style=\"text-align: right;\">                 81.11</td><td style=\"text-align: right;\">                                       227   </td><td>1 cup                                                    </td><td style=\"text-align: right;\">                                           14</td><td>1 tbsp                                                   </td><td style=\"text-align: right;\">                           24</td><td style=\"text-align: right;\">                       0    </td><td style=\"text-align: right;\">                      0.02</td><td style=\"text-align: right;\">                              2</td><td style=\"text-align: right;\">                              24</td><td style=\"text-align: right;\">                             24</td><td style=\"text-align: right;\">                         576</td><td style=\"text-align: right;\">                      0.09</td><td style=\"text-align: right;\">                          2499</td><td style=\"text-align: right;\">                            684</td><td style=\"text-align: right;\">                       0.17</td><td style=\"text-align: right;\">                     0.003</td><td style=\"text-align: right;\">                        0</td><td style=\"text-align: right;\">                     2.32</td><td style=\"text-align: right;\">                      7  </td></tr>\n<tr><td>BUTTER    </td><td>BUTTER,WHIPPED,WITH SALT</td><td style=\"text-align: right;\">                       1002</td><td style=\"text-align: right;\">                    0</td><td style=\"text-align: right;\">      2.11</td><td style=\"text-align: right;\">                 158</td><td style=\"text-align: right;\">                        0</td><td style=\"text-align: right;\">               0.06</td><td style=\"text-align: right;\">               219</td><td style=\"text-align: right;\">            19</td><td style=\"text-align: right;\">           0</td><td style=\"text-align: right;\">                717</td><td style=\"text-align: right;\">                           0</td><td style=\"text-align: right;\">              0</td><td style=\"text-align: right;\">           0.004</td><td style=\"text-align: right;\">        0.042</td><td style=\"text-align: right;\">                  0.11 </td><td style=\"text-align: right;\">          0.85</td><td style=\"text-align: right;\">                       0</td><td style=\"text-align: right;\">           671</td><td style=\"text-align: right;\">            0.034</td><td style=\"text-align: right;\">            1  </td><td style=\"text-align: right;\">              0.06</td><td style=\"text-align: right;\">         0.005</td><td style=\"text-align: right;\">       15.87</td><td style=\"text-align: right;\">                      23.426</td><td style=\"text-align: right;\">                       3.012</td><td style=\"text-align: right;\">                  50.489</td><td style=\"text-align: right;\">                 81.11</td><td style=\"text-align: right;\">                                       151   </td><td>1 cup                                                    </td><td style=\"text-align: right;\">                                            9</td><td>1 tbsp                                                   </td><td style=\"text-align: right;\">                           24</td><td style=\"text-align: right;\">                       0.016</td><td style=\"text-align: right;\">                      0.16</td><td style=\"text-align: right;\">                              2</td><td style=\"text-align: right;\">                              23</td><td style=\"text-align: right;\">                             26</td><td style=\"text-align: right;\">                         827</td><td style=\"text-align: right;\">                      0.05</td><td style=\"text-align: right;\">                          2499</td><td style=\"text-align: right;\">                            684</td><td style=\"text-align: right;\">                       0.13</td><td style=\"text-align: right;\">                     0.003</td><td style=\"text-align: right;\">                        0</td><td style=\"text-align: right;\">                     2.32</td><td style=\"text-align: right;\">                      7  </td></tr>\n<tr><td>BUTTER OIL</td><td>BUTTER OIL,ANHYDROUS    </td><td style=\"text-align: right;\">                       1003</td><td style=\"text-align: right;\">                    0</td><td style=\"text-align: right;\">      0   </td><td style=\"text-align: right;\">                 193</td><td style=\"text-align: right;\">                        0</td><td style=\"text-align: right;\">               0   </td><td style=\"text-align: right;\">               256</td><td style=\"text-align: right;\">            22</td><td style=\"text-align: right;\">           0</td><td style=\"text-align: right;\">                876</td><td style=\"text-align: right;\">                           0</td><td style=\"text-align: right;\">              0</td><td style=\"text-align: right;\">           0    </td><td style=\"text-align: right;\">        0.003</td><td style=\"text-align: right;\">                  0.01 </td><td style=\"text-align: right;\">          0.28</td><td style=\"text-align: right;\">                       0</td><td style=\"text-align: right;\">           824</td><td style=\"text-align: right;\">            0.005</td><td style=\"text-align: right;\">            0  </td><td style=\"text-align: right;\">              0   </td><td style=\"text-align: right;\">         0.001</td><td style=\"text-align: right;\">        0.24</td><td style=\"text-align: right;\">                      28.732</td><td style=\"text-align: right;\">                       3.694</td><td style=\"text-align: right;\">                  61.924</td><td style=\"text-align: right;\">                 99.48</td><td style=\"text-align: right;\">                                       205   </td><td>1 cup                                                    </td><td style=\"text-align: right;\">                                           13</td><td>1 tbsp                                                   </td><td style=\"text-align: right;\">                            4</td><td style=\"text-align: right;\">                       0.001</td><td style=\"text-align: right;\">                      0   </td><td style=\"text-align: right;\">                              0</td><td style=\"text-align: right;\">                               3</td><td style=\"text-align: right;\">                              5</td><td style=\"text-align: right;\">                           2</td><td style=\"text-align: right;\">                      0.01</td><td style=\"text-align: right;\">                          3069</td><td style=\"text-align: right;\">                            840</td><td style=\"text-align: right;\">                       0.01</td><td style=\"text-align: right;\">                     0.001</td><td style=\"text-align: right;\">                        0</td><td style=\"text-align: right;\">                     2.8 </td><td style=\"text-align: right;\">                      8.6</td></tr>\n<tr><td>CHEESE    </td><td>CHEESE,BLUE             </td><td style=\"text-align: right;\">                       1004</td><td style=\"text-align: right;\">                    0</td><td style=\"text-align: right;\">      5.11</td><td style=\"text-align: right;\">                  74</td><td style=\"text-align: right;\">                        0</td><td style=\"text-align: right;\">               2.34</td><td style=\"text-align: right;\">                75</td><td style=\"text-align: right;\">            15</td><td style=\"text-align: right;\">           0</td><td style=\"text-align: right;\">                353</td><td style=\"text-align: right;\">                           0</td><td style=\"text-align: right;\">              0</td><td style=\"text-align: right;\">           0.009</td><td style=\"text-align: right;\">        1.016</td><td style=\"text-align: right;\">                  1.729</td><td style=\"text-align: right;\">         21.4 </td><td style=\"text-align: right;\">                       0</td><td style=\"text-align: right;\">           192</td><td style=\"text-align: right;\">            0.382</td><td style=\"text-align: right;\">           14.5</td><td style=\"text-align: right;\">              0.5 </td><td style=\"text-align: right;\">         0.029</td><td style=\"text-align: right;\">       42.41</td><td style=\"text-align: right;\">                       7.778</td><td style=\"text-align: right;\">                       0.8  </td><td style=\"text-align: right;\">                  18.669</td><td style=\"text-align: right;\">                 28.74</td><td style=\"text-align: right;\">                                        28.35</td><td>1 oz                                                     </td><td style=\"text-align: right;\">                                           17</td><td>1 cubic inch                                             </td><td style=\"text-align: right;\">                          528</td><td style=\"text-align: right;\">                       0.04 </td><td style=\"text-align: right;\">                      0.31</td><td style=\"text-align: right;\">                             23</td><td style=\"text-align: right;\">                             387</td><td style=\"text-align: right;\">                            256</td><td style=\"text-align: right;\">                        1395</td><td style=\"text-align: right;\">                      2.66</td><td style=\"text-align: right;\">                           763</td><td style=\"text-align: right;\">                            198</td><td style=\"text-align: right;\">                       1.22</td><td style=\"text-align: right;\">                     0.166</td><td style=\"text-align: right;\">                        0</td><td style=\"text-align: right;\">                     0.25</td><td style=\"text-align: right;\">                      2.4</td></tr>\n<tr><td>CHEESE    </td><td>CHEESE,BRICK            </td><td style=\"text-align: right;\">                       1005</td><td style=\"text-align: right;\">                    0</td><td style=\"text-align: right;\">      3.18</td><td style=\"text-align: right;\">                  76</td><td style=\"text-align: right;\">                        0</td><td style=\"text-align: right;\">               2.79</td><td style=\"text-align: right;\">                94</td><td style=\"text-align: right;\">            15</td><td style=\"text-align: right;\">           0</td><td style=\"text-align: right;\">                371</td><td style=\"text-align: right;\">                           0</td><td style=\"text-align: right;\">              0</td><td style=\"text-align: right;\">           0.012</td><td style=\"text-align: right;\">        0.118</td><td style=\"text-align: right;\">                  0.288</td><td style=\"text-align: right;\">         23.24</td><td style=\"text-align: right;\">                       0</td><td style=\"text-align: right;\">           286</td><td style=\"text-align: right;\">            0.351</td><td style=\"text-align: right;\">           14.5</td><td style=\"text-align: right;\">              0.51</td><td style=\"text-align: right;\">         0.014</td><td style=\"text-align: right;\">       41.11</td><td style=\"text-align: right;\">                       8.598</td><td style=\"text-align: right;\">                       0.784</td><td style=\"text-align: right;\">                  18.764</td><td style=\"text-align: right;\">                 29.68</td><td style=\"text-align: right;\">                                       132   </td><td>1 cup, diced                                             </td><td style=\"text-align: right;\">                                          113</td><td>1 cup, shredded                                          </td><td style=\"text-align: right;\">                          674</td><td style=\"text-align: right;\">                       0.024</td><td style=\"text-align: right;\">                      0.43</td><td style=\"text-align: right;\">                             24</td><td style=\"text-align: right;\">                             451</td><td style=\"text-align: right;\">                            136</td><td style=\"text-align: right;\">                         560</td><td style=\"text-align: right;\">                      2.6 </td><td style=\"text-align: right;\">                          1080</td><td style=\"text-align: right;\">                            292</td><td style=\"text-align: right;\">                       1.26</td><td style=\"text-align: right;\">                     0.065</td><td style=\"text-align: right;\">                        0</td><td style=\"text-align: right;\">                     0.26</td><td style=\"text-align: right;\">                      2.5</td></tr>\n<tr><td>CHEESE    </td><td>CHEESE,BRIE             </td><td style=\"text-align: right;\">                       1006</td><td style=\"text-align: right;\">                    0</td><td style=\"text-align: right;\">      2.7 </td><td style=\"text-align: right;\">                   9</td><td style=\"text-align: right;\">                        0</td><td style=\"text-align: right;\">               0.45</td><td style=\"text-align: right;\">               100</td><td style=\"text-align: right;\">            15</td><td style=\"text-align: right;\">           0</td><td style=\"text-align: right;\">                334</td><td style=\"text-align: right;\">                           0</td><td style=\"text-align: right;\">              0</td><td style=\"text-align: right;\">           0.034</td><td style=\"text-align: right;\">        0.38 </td><td style=\"text-align: right;\">                  0.69 </td><td style=\"text-align: right;\">         20.75</td><td style=\"text-align: right;\">                       0</td><td style=\"text-align: right;\">           173</td><td style=\"text-align: right;\">            0.52 </td><td style=\"text-align: right;\">           14.5</td><td style=\"text-align: right;\">              0.45</td><td style=\"text-align: right;\">         0.07 </td><td style=\"text-align: right;\">       48.42</td><td style=\"text-align: right;\">                       8.013</td><td style=\"text-align: right;\">                       0.826</td><td style=\"text-align: right;\">                  17.41 </td><td style=\"text-align: right;\">                 27.68</td><td style=\"text-align: right;\">                                       240   </td><td>1 cup, melted                                            </td><td style=\"text-align: right;\">                                          144</td><td>1 cup, sliced                                            </td><td style=\"text-align: right;\">                          184</td><td style=\"text-align: right;\">                       0.019</td><td style=\"text-align: right;\">                      0.5 </td><td style=\"text-align: right;\">                             20</td><td style=\"text-align: right;\">                             188</td><td style=\"text-align: right;\">                            152</td><td style=\"text-align: right;\">                         629</td><td style=\"text-align: right;\">                      2.38</td><td style=\"text-align: right;\">                           592</td><td style=\"text-align: right;\">                            174</td><td style=\"text-align: right;\">                       1.65</td><td style=\"text-align: right;\">                     0.235</td><td style=\"text-align: right;\">                        0</td><td style=\"text-align: right;\">                     0.24</td><td style=\"text-align: right;\">                      2.3</td></tr>\n<tr><td>CHEESE    </td><td>CHEESE,CAMEMBERT        </td><td style=\"text-align: right;\">                       1007</td><td style=\"text-align: right;\">                    0</td><td style=\"text-align: right;\">      3.68</td><td style=\"text-align: right;\">                  12</td><td style=\"text-align: right;\">                        0</td><td style=\"text-align: right;\">               0.46</td><td style=\"text-align: right;\">                72</td><td style=\"text-align: right;\">            15</td><td style=\"text-align: right;\">           0</td><td style=\"text-align: right;\">                300</td><td style=\"text-align: right;\">                           0</td><td style=\"text-align: right;\">              0</td><td style=\"text-align: right;\">           0.038</td><td style=\"text-align: right;\">        0.63 </td><td style=\"text-align: right;\">                  1.364</td><td style=\"text-align: right;\">         19.8 </td><td style=\"text-align: right;\">                       0</td><td style=\"text-align: right;\">           240</td><td style=\"text-align: right;\">            0.488</td><td style=\"text-align: right;\">           14.5</td><td style=\"text-align: right;\">              0.46</td><td style=\"text-align: right;\">         0.028</td><td style=\"text-align: right;\">       51.8 </td><td style=\"text-align: right;\">                       7.023</td><td style=\"text-align: right;\">                       0.724</td><td style=\"text-align: right;\">                  15.259</td><td style=\"text-align: right;\">                 24.26</td><td style=\"text-align: right;\">                                       246   </td><td>1 cup                                                    </td><td style=\"text-align: right;\">                                           28</td><td>1 oz                                                     </td><td style=\"text-align: right;\">                          388</td><td style=\"text-align: right;\">                       0.021</td><td style=\"text-align: right;\">                      0.33</td><td style=\"text-align: right;\">                             20</td><td style=\"text-align: right;\">                             347</td><td style=\"text-align: right;\">                            187</td><td style=\"text-align: right;\">                         842</td><td style=\"text-align: right;\">                      2.38</td><td style=\"text-align: right;\">                           820</td><td style=\"text-align: right;\">                            241</td><td style=\"text-align: right;\">                       1.3 </td><td style=\"text-align: right;\">                     0.227</td><td style=\"text-align: right;\">                        0</td><td style=\"text-align: right;\">                     0.21</td><td style=\"text-align: right;\">                      2  </td></tr>\n<tr><td>CHEESE    </td><td>CHEESE,CARAWAY          </td><td style=\"text-align: right;\">                       1008</td><td style=\"text-align: right;\">                    0</td><td style=\"text-align: right;\">      3.28</td><td style=\"text-align: right;\">                   0</td><td style=\"text-align: right;\">                        0</td><td style=\"text-align: right;\">               3.06</td><td style=\"text-align: right;\">                93</td><td style=\"text-align: right;\">             0</td><td style=\"text-align: right;\">           0</td><td style=\"text-align: right;\">                376</td><td style=\"text-align: right;\">                           0</td><td style=\"text-align: right;\">              0</td><td style=\"text-align: right;\">           0.021</td><td style=\"text-align: right;\">        0.18 </td><td style=\"text-align: right;\">                  0.19 </td><td style=\"text-align: right;\">         25.18</td><td style=\"text-align: right;\">                       0</td><td style=\"text-align: right;\">           262</td><td style=\"text-align: right;\">            0.45 </td><td style=\"text-align: right;\">           14.5</td><td style=\"text-align: right;\">              0   </td><td style=\"text-align: right;\">         0.031</td><td style=\"text-align: right;\">       39.28</td><td style=\"text-align: right;\">                       8.275</td><td style=\"text-align: right;\">                       0.83 </td><td style=\"text-align: right;\">                  18.584</td><td style=\"text-align: right;\">                 29.2 </td><td style=\"text-align: right;\">                                        28.35</td><td>1 oz                                                     </td><td style=\"text-align: right;\">                                            0</td><td>                                                         </td><td style=\"text-align: right;\">                          673</td><td style=\"text-align: right;\">                       0.024</td><td style=\"text-align: right;\">                      0.64</td><td style=\"text-align: right;\">                             22</td><td style=\"text-align: right;\">                             490</td><td style=\"text-align: right;\">                             93</td><td style=\"text-align: right;\">                         690</td><td style=\"text-align: right;\">                      2.94</td><td style=\"text-align: right;\">                          1054</td><td style=\"text-align: right;\">                            271</td><td style=\"text-align: right;\">                       0.27</td><td style=\"text-align: right;\">                     0.074</td><td style=\"text-align: right;\">                        0</td><td style=\"text-align: right;\">                     0   </td><td style=\"text-align: right;\">                      0  </td></tr>\n<tr><td>CHEESE    </td><td>CHEESE,CHEDDAR          </td><td style=\"text-align: right;\">                       1009</td><td style=\"text-align: right;\">                    0</td><td style=\"text-align: right;\">      3.93</td><td style=\"text-align: right;\">                  85</td><td style=\"text-align: right;\">                        0</td><td style=\"text-align: right;\">               1.28</td><td style=\"text-align: right;\">               105</td><td style=\"text-align: right;\">            16</td><td style=\"text-align: right;\">           0</td><td style=\"text-align: right;\">                403</td><td style=\"text-align: right;\">                           0</td><td style=\"text-align: right;\">              0</td><td style=\"text-align: right;\">           0.01 </td><td style=\"text-align: right;\">        0.08 </td><td style=\"text-align: right;\">                  0.413</td><td style=\"text-align: right;\">         24.9 </td><td style=\"text-align: right;\">                       0</td><td style=\"text-align: right;\">           258</td><td style=\"text-align: right;\">            0.375</td><td style=\"text-align: right;\">           13.9</td><td style=\"text-align: right;\">              0.52</td><td style=\"text-align: right;\">         0.027</td><td style=\"text-align: right;\">       36.75</td><td style=\"text-align: right;\">                       9.391</td><td style=\"text-align: right;\">                       0.942</td><td style=\"text-align: right;\">                  21.092</td><td style=\"text-align: right;\">                 33.14</td><td style=\"text-align: right;\">                                       132   </td><td>1 cup, diced                                             </td><td style=\"text-align: right;\">                                          244</td><td>1 cup, melted                                            </td><td style=\"text-align: right;\">                          721</td><td style=\"text-align: right;\">                       0.031</td><td style=\"text-align: right;\">                      0.68</td><td style=\"text-align: right;\">                             28</td><td style=\"text-align: right;\">                             512</td><td style=\"text-align: right;\">                             98</td><td style=\"text-align: right;\">                         621</td><td style=\"text-align: right;\">                      3.11</td><td style=\"text-align: right;\">                          1002</td><td style=\"text-align: right;\">                            265</td><td style=\"text-align: right;\">                       0.83</td><td style=\"text-align: right;\">                     0.074</td><td style=\"text-align: right;\">                        0</td><td style=\"text-align: right;\">                     0.29</td><td style=\"text-align: right;\">                      2.8</td></tr>\n<tr><td>CHEESE    </td><td>CHEESE,CHESHIRE         </td><td style=\"text-align: right;\">                       1010</td><td style=\"text-align: right;\">                    0</td><td style=\"text-align: right;\">      3.6 </td><td style=\"text-align: right;\">                   0</td><td style=\"text-align: right;\">                        0</td><td style=\"text-align: right;\">               4.78</td><td style=\"text-align: right;\">               103</td><td style=\"text-align: right;\">             0</td><td style=\"text-align: right;\">           0</td><td style=\"text-align: right;\">                387</td><td style=\"text-align: right;\">                           0</td><td style=\"text-align: right;\">              0</td><td style=\"text-align: right;\">           0.012</td><td style=\"text-align: right;\">        0.08 </td><td style=\"text-align: right;\">                  0.413</td><td style=\"text-align: right;\">         23.37</td><td style=\"text-align: right;\">                       0</td><td style=\"text-align: right;\">           220</td><td style=\"text-align: right;\">            0.293</td><td style=\"text-align: right;\">           14.5</td><td style=\"text-align: right;\">              0   </td><td style=\"text-align: right;\">         0.046</td><td style=\"text-align: right;\">       37.65</td><td style=\"text-align: right;\">                       8.671</td><td style=\"text-align: right;\">                       0.87 </td><td style=\"text-align: right;\">                  19.475</td><td style=\"text-align: right;\">                 30.6 </td><td style=\"text-align: right;\">                                        28.35</td><td>1 oz                                                     </td><td style=\"text-align: right;\">                                            0</td><td>                                                         </td><td style=\"text-align: right;\">                          643</td><td style=\"text-align: right;\">                       0.042</td><td style=\"text-align: right;\">                      0.21</td><td style=\"text-align: right;\">                             21</td><td style=\"text-align: right;\">                             464</td><td style=\"text-align: right;\">                             95</td><td style=\"text-align: right;\">                         700</td><td style=\"text-align: right;\">                      2.79</td><td style=\"text-align: right;\">                           985</td><td style=\"text-align: right;\">                            233</td><td style=\"text-align: right;\">                       0.83</td><td style=\"text-align: right;\">                     0.074</td><td style=\"text-align: right;\">                        0</td><td style=\"text-align: right;\">                     0   </td><td style=\"text-align: right;\">                      0  </td></tr>\n</tbody>\n</table><pre style='font-size: smaller; margin-bottom: 1em;'>[10 rows x 48 columns]</pre>"
     },
     "execution_count": 67,
     "metadata": {},
     "output_type": "execute_result"
    }
   ],
   "source": [
    "df.head()"
   ],
   "metadata": {
    "collapsed": false,
    "ExecuteTime": {
     "end_time": "2023-10-25T23:12:27.971492Z",
     "start_time": "2023-10-25T23:12:27.842670Z"
    }
   },
   "id": "3570203a5c89fc5f"
  },
  {
   "cell_type": "code",
   "execution_count": null,
   "outputs": [],
   "source": [
    "df.describe()"
   ],
   "metadata": {
    "collapsed": false
   },
   "id": "d53f799a2e0bd81"
  },
  {
   "cell_type": "markdown",
   "source": [
    "## Data Preprocessing\n"
   ],
   "metadata": {
    "collapsed": false
   },
   "id": "b90d6b0a15002499"
  }
 ],
 "metadata": {
  "kernelspec": {
   "display_name": "Python 3",
   "language": "python",
   "name": "python3"
  },
  "language_info": {
   "codemirror_mode": {
    "name": "ipython",
    "version": 2
   },
   "file_extension": ".py",
   "mimetype": "text/x-python",
   "name": "python",
   "nbconvert_exporter": "python",
   "pygments_lexer": "ipython2",
   "version": "2.7.6"
  }
 },
 "nbformat": 4,
 "nbformat_minor": 5
}
