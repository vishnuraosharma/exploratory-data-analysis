{
 "cells": [
  {
   "cell_type": "code",
   "execution_count": null,
   "id": "initial_id",
   "metadata": {
    "collapsed": true
   },
   "outputs": [],
   "source": []
  },
  {
   "cell_type": "markdown",
   "source": [
    "## Modeling with AutoML \n",
    "H2O will speed up some of the basic data processing steps, feature engineering, and model testing so I can focus on determining the best model for this dataset.\n"
   ],
   "metadata": {
    "collapsed": false
   },
   "id": "e48d95ae158c5ac1"
  },
  {
   "cell_type": "code",
   "execution_count": 1,
   "outputs": [
    {
     "name": "stdout",
     "output_type": "stream",
     "text": [
      "Requirement already satisfied: pip in /Users/vraosharma/Desktop/Python/DSEMT/exploratory-data-analysis/venv/lib/python3.10/site-packages (23.3.1)\r\n",
      "Requirement already satisfied: requests in /Users/vraosharma/Desktop/Python/DSEMT/exploratory-data-analysis/venv/lib/python3.10/site-packages (2.31.0)\r\n",
      "Requirement already satisfied: charset-normalizer<4,>=2 in /Users/vraosharma/Desktop/Python/DSEMT/exploratory-data-analysis/venv/lib/python3.10/site-packages (from requests) (3.3.1)\r\n",
      "Requirement already satisfied: idna<4,>=2.5 in /Users/vraosharma/Desktop/Python/DSEMT/exploratory-data-analysis/venv/lib/python3.10/site-packages (from requests) (3.4)\r\n",
      "Requirement already satisfied: urllib3<3,>=1.21.1 in /Users/vraosharma/Desktop/Python/DSEMT/exploratory-data-analysis/venv/lib/python3.10/site-packages (from requests) (2.0.7)\r\n",
      "Requirement already satisfied: certifi>=2017.4.17 in /Users/vraosharma/Desktop/Python/DSEMT/exploratory-data-analysis/venv/lib/python3.10/site-packages (from requests) (2023.7.22)\r\n",
      "Requirement already satisfied: tabulate in /Users/vraosharma/Desktop/Python/DSEMT/exploratory-data-analysis/venv/lib/python3.10/site-packages (0.9.0)\r\n",
      "Requirement already satisfied: colorama>=0.3.8 in /Users/vraosharma/Desktop/Python/DSEMT/exploratory-data-analysis/venv/lib/python3.10/site-packages (0.4.6)\r\n",
      "Requirement already satisfied: future in /Users/vraosharma/Desktop/Python/DSEMT/exploratory-data-analysis/venv/lib/python3.10/site-packages (0.18.3)\r\n"
     ]
    }
   ],
   "source": [
    "# Importing necessary libraries\n",
    "!pip install --upgrade pip\n",
    "!pip install requests\n",
    "!pip install tabulate\n",
    "!pip install \"colorama>=0.3.8\"\n",
    "!pip install future"
   ],
   "metadata": {
    "collapsed": false,
    "ExecuteTime": {
     "end_time": "2023-11-20T14:29:03.576031Z",
     "start_time": "2023-11-20T14:28:59.165443Z"
    }
   },
   "id": "99450f2ca9863a8c"
  },
  {
   "cell_type": "code",
   "execution_count": null,
   "outputs": [],
   "source": [
    "!pip3 install -f http://h2o-release.s3.amazonaws.com/h2o/latest_stable_Py.html h2o"
   ],
   "metadata": {
    "collapsed": false
   },
   "id": "4038783377a3c7ea"
  },
  {
   "cell_type": "code",
   "execution_count": 3,
   "outputs": [],
   "source": [
    "# Importing necessary libraries\n",
    "import h2o\n",
    "from h2o.automl import H2OAutoML\n",
    "import random, os, sys\n",
    "import psutil\n",
    "import random\n",
    "import logging\n",
    "import pandas as pd\n",
    "import seaborn as sns\n",
    "import numpy as np\n",
    "from matplotlib import pyplot as plt\n",
    "import statsmodels.api as sm"
   ],
   "metadata": {
    "collapsed": false,
    "ExecuteTime": {
     "end_time": "2023-11-20T14:34:42.001744Z",
     "start_time": "2023-11-20T14:34:40.606001Z"
    }
   },
   "id": "5731cd68354b37c4"
  },
  {
   "cell_type": "code",
   "execution_count": null,
   "outputs": [],
   "source": [
    "min_mem_size=6 \n",
    "pct_memory=0.5\n",
    "virtual_memory=psutil.virtual_memory()\n",
    "min_mem_size=int(round(int(pct_memory*virtual_memory.available)/1073741824,0))\n",
    "print(min_mem_size)"
   ],
   "metadata": {
    "collapsed": false
   },
   "id": "657068d72a9c824f"
  },
  {
   "cell_type": "code",
   "execution_count": null,
   "outputs": [],
   "source": [
    "port_no=random.randint(5555,55555)\n",
    "try:\n",
    "  h2o.init(strict_version_check=False,min_mem_size_GB=min_mem_size,port=port_no) # start h2o\n",
    "except:\n",
    "  logging.critical('h2o.init')\n",
    "  h2o.download_all_logs(dirname=logs_path, filename=logfile)    \n",
    "  h2o.cluster().shutdown()\n",
    "  sys.exit(2)"
   ],
   "metadata": {
    "collapsed": false
   },
   "id": "efe2f2288bacb3fd"
  },
  {
   "cell_type": "markdown",
   "source": [
    "## Importing the dataset"
   ],
   "metadata": {
    "collapsed": false
   },
   "id": "95323b26fb00d911"
  },
  {
   "cell_type": "code",
   "execution_count": null,
   "outputs": [],
   "source": [
    "# Addding the dataset from github https://github.com/vraosharma-northeastern/exploratory-data-analysis/blob/main/Nutrition%20/food.csv\n",
    "!wget https://raw.githubusercontent.com/vishnuraosharma/exploratory-data-analysis/main/Kcal%20Predictions/food.csv"
   ],
   "metadata": {
    "collapsed": false
   },
   "id": "fba1a53c393e6ba5"
  },
  {
   "cell_type": "code",
   "execution_count": 4,
   "outputs": [
    {
     "data": {
      "text/plain": "       Nutrient Data Bank Number  Alpha Carotene          Ash  Beta Carotene  \\\ncount                7413.000000     7413.000000  7413.000000    7413.000000   \nmean                14116.443680       21.210711     1.852459     159.043437   \nstd                  8767.416214      269.714183     2.993228    1126.285026   \nmin                  1001.000000        0.000000     0.000000       0.000000   \n25%                  8121.000000        0.000000     0.830000       0.000000   \n50%                 12539.000000        0.000000     1.240000       0.000000   \n75%                 18424.000000        0.000000     2.200000       1.000000   \nmax                 93600.000000    14251.000000    99.800000   42891.000000   \n\n       Beta Cryptoxanthin  Carbohydrate  Cholesterol      Choline  \\\ncount         7413.000000   7413.000000  7413.000000  7413.000000   \nmean             8.776744     21.785381    37.162822    20.673546   \nstd            154.184860     27.123491   119.738438    45.481990   \nmin              0.000000      0.000000     0.000000     0.000000   \n25%              0.000000      0.490000     0.000000     0.000000   \n50%              0.000000      9.290000     2.000000     0.000000   \n75%              0.000000     30.590000    60.000000    20.000000   \nmax           7923.000000    100.000000  3100.000000  1388.000000   \n\n             Fiber  Kilocalories  ...  Major Minerals.Potassium  \\\ncount  7413.000000   7413.000000  ...               7413.000000   \nmean      1.993147    219.655875  ...                268.348172   \nstd       4.292873    171.668713  ...                404.916220   \nmin       0.000000      0.000000  ...                  0.000000   \n25%       0.000000     82.000000  ...                103.000000   \n50%       0.300000    181.000000  ...                210.000000   \n75%       2.300000    331.000000  ...                328.000000   \nmax      79.000000    902.000000  ...              16500.000000   \n\n       Major Minerals.Sodium  Major Minerals.Zinc  Vitamins.Vitamin A - IU  \\\ncount            7413.000000          7413.000000              7413.000000   \nmean              331.590719             1.875125               767.568191   \nstd               977.046544             4.193682              3871.307652   \nmin                 0.000000             0.000000                 0.000000   \n25%                31.000000             0.190000                 0.000000   \n50%                86.000000             0.770000                33.000000   \n75%               428.000000             2.460000               280.000000   \nmax             38758.000000           181.610000            100000.000000   \n\n       Vitamins.Vitamin A - RAE  Vitamins.Vitamin B12  Vitamins.Vitamin B6  \\\ncount               7413.000000           7413.000000          7413.000000   \nmean                  99.437070              1.172903             0.269547   \nstd                  761.653061              4.512816             0.565116   \nmin                    0.000000              0.000000             0.000000   \n25%                    0.000000              0.000000             0.030000   \n50%                    0.000000              0.010000             0.110000   \n75%                   24.000000              0.830000             0.330000   \nmax                30000.000000             98.890000            12.000000   \n\n       Vitamins.Vitamin C  Vitamins.Vitamin E  Vitamins.Vitamin K  \ncount         7413.000000         7413.000000         7413.000000  \nmean             9.075651            0.842837            9.448604  \nstd             63.443284            4.169756           66.067619  \nmin              0.000000            0.000000            0.000000  \n25%              0.000000            0.000000            0.000000  \n50%              0.000000            0.050000            0.000000  \n75%              3.500000            0.390000            1.700000  \nmax           2400.000000          149.400000         1714.500000  \n\n[8 rows x 44 columns]",
      "text/html": "<div>\n<style scoped>\n    .dataframe tbody tr th:only-of-type {\n        vertical-align: middle;\n    }\n\n    .dataframe tbody tr th {\n        vertical-align: top;\n    }\n\n    .dataframe thead th {\n        text-align: right;\n    }\n</style>\n<table border=\"1\" class=\"dataframe\">\n  <thead>\n    <tr style=\"text-align: right;\">\n      <th></th>\n      <th>Nutrient Data Bank Number</th>\n      <th>Alpha Carotene</th>\n      <th>Ash</th>\n      <th>Beta Carotene</th>\n      <th>Beta Cryptoxanthin</th>\n      <th>Carbohydrate</th>\n      <th>Cholesterol</th>\n      <th>Choline</th>\n      <th>Fiber</th>\n      <th>Kilocalories</th>\n      <th>...</th>\n      <th>Major Minerals.Potassium</th>\n      <th>Major Minerals.Sodium</th>\n      <th>Major Minerals.Zinc</th>\n      <th>Vitamins.Vitamin A - IU</th>\n      <th>Vitamins.Vitamin A - RAE</th>\n      <th>Vitamins.Vitamin B12</th>\n      <th>Vitamins.Vitamin B6</th>\n      <th>Vitamins.Vitamin C</th>\n      <th>Vitamins.Vitamin E</th>\n      <th>Vitamins.Vitamin K</th>\n    </tr>\n  </thead>\n  <tbody>\n    <tr>\n      <th>count</th>\n      <td>7413.000000</td>\n      <td>7413.000000</td>\n      <td>7413.000000</td>\n      <td>7413.000000</td>\n      <td>7413.000000</td>\n      <td>7413.000000</td>\n      <td>7413.000000</td>\n      <td>7413.000000</td>\n      <td>7413.000000</td>\n      <td>7413.000000</td>\n      <td>...</td>\n      <td>7413.000000</td>\n      <td>7413.000000</td>\n      <td>7413.000000</td>\n      <td>7413.000000</td>\n      <td>7413.000000</td>\n      <td>7413.000000</td>\n      <td>7413.000000</td>\n      <td>7413.000000</td>\n      <td>7413.000000</td>\n      <td>7413.000000</td>\n    </tr>\n    <tr>\n      <th>mean</th>\n      <td>14116.443680</td>\n      <td>21.210711</td>\n      <td>1.852459</td>\n      <td>159.043437</td>\n      <td>8.776744</td>\n      <td>21.785381</td>\n      <td>37.162822</td>\n      <td>20.673546</td>\n      <td>1.993147</td>\n      <td>219.655875</td>\n      <td>...</td>\n      <td>268.348172</td>\n      <td>331.590719</td>\n      <td>1.875125</td>\n      <td>767.568191</td>\n      <td>99.437070</td>\n      <td>1.172903</td>\n      <td>0.269547</td>\n      <td>9.075651</td>\n      <td>0.842837</td>\n      <td>9.448604</td>\n    </tr>\n    <tr>\n      <th>std</th>\n      <td>8767.416214</td>\n      <td>269.714183</td>\n      <td>2.993228</td>\n      <td>1126.285026</td>\n      <td>154.184860</td>\n      <td>27.123491</td>\n      <td>119.738438</td>\n      <td>45.481990</td>\n      <td>4.292873</td>\n      <td>171.668713</td>\n      <td>...</td>\n      <td>404.916220</td>\n      <td>977.046544</td>\n      <td>4.193682</td>\n      <td>3871.307652</td>\n      <td>761.653061</td>\n      <td>4.512816</td>\n      <td>0.565116</td>\n      <td>63.443284</td>\n      <td>4.169756</td>\n      <td>66.067619</td>\n    </tr>\n    <tr>\n      <th>min</th>\n      <td>1001.000000</td>\n      <td>0.000000</td>\n      <td>0.000000</td>\n      <td>0.000000</td>\n      <td>0.000000</td>\n      <td>0.000000</td>\n      <td>0.000000</td>\n      <td>0.000000</td>\n      <td>0.000000</td>\n      <td>0.000000</td>\n      <td>...</td>\n      <td>0.000000</td>\n      <td>0.000000</td>\n      <td>0.000000</td>\n      <td>0.000000</td>\n      <td>0.000000</td>\n      <td>0.000000</td>\n      <td>0.000000</td>\n      <td>0.000000</td>\n      <td>0.000000</td>\n      <td>0.000000</td>\n    </tr>\n    <tr>\n      <th>25%</th>\n      <td>8121.000000</td>\n      <td>0.000000</td>\n      <td>0.830000</td>\n      <td>0.000000</td>\n      <td>0.000000</td>\n      <td>0.490000</td>\n      <td>0.000000</td>\n      <td>0.000000</td>\n      <td>0.000000</td>\n      <td>82.000000</td>\n      <td>...</td>\n      <td>103.000000</td>\n      <td>31.000000</td>\n      <td>0.190000</td>\n      <td>0.000000</td>\n      <td>0.000000</td>\n      <td>0.000000</td>\n      <td>0.030000</td>\n      <td>0.000000</td>\n      <td>0.000000</td>\n      <td>0.000000</td>\n    </tr>\n    <tr>\n      <th>50%</th>\n      <td>12539.000000</td>\n      <td>0.000000</td>\n      <td>1.240000</td>\n      <td>0.000000</td>\n      <td>0.000000</td>\n      <td>9.290000</td>\n      <td>2.000000</td>\n      <td>0.000000</td>\n      <td>0.300000</td>\n      <td>181.000000</td>\n      <td>...</td>\n      <td>210.000000</td>\n      <td>86.000000</td>\n      <td>0.770000</td>\n      <td>33.000000</td>\n      <td>0.000000</td>\n      <td>0.010000</td>\n      <td>0.110000</td>\n      <td>0.000000</td>\n      <td>0.050000</td>\n      <td>0.000000</td>\n    </tr>\n    <tr>\n      <th>75%</th>\n      <td>18424.000000</td>\n      <td>0.000000</td>\n      <td>2.200000</td>\n      <td>1.000000</td>\n      <td>0.000000</td>\n      <td>30.590000</td>\n      <td>60.000000</td>\n      <td>20.000000</td>\n      <td>2.300000</td>\n      <td>331.000000</td>\n      <td>...</td>\n      <td>328.000000</td>\n      <td>428.000000</td>\n      <td>2.460000</td>\n      <td>280.000000</td>\n      <td>24.000000</td>\n      <td>0.830000</td>\n      <td>0.330000</td>\n      <td>3.500000</td>\n      <td>0.390000</td>\n      <td>1.700000</td>\n    </tr>\n    <tr>\n      <th>max</th>\n      <td>93600.000000</td>\n      <td>14251.000000</td>\n      <td>99.800000</td>\n      <td>42891.000000</td>\n      <td>7923.000000</td>\n      <td>100.000000</td>\n      <td>3100.000000</td>\n      <td>1388.000000</td>\n      <td>79.000000</td>\n      <td>902.000000</td>\n      <td>...</td>\n      <td>16500.000000</td>\n      <td>38758.000000</td>\n      <td>181.610000</td>\n      <td>100000.000000</td>\n      <td>30000.000000</td>\n      <td>98.890000</td>\n      <td>12.000000</td>\n      <td>2400.000000</td>\n      <td>149.400000</td>\n      <td>1714.500000</td>\n    </tr>\n  </tbody>\n</table>\n<p>8 rows × 44 columns</p>\n</div>"
     },
     "execution_count": 4,
     "metadata": {},
     "output_type": "execute_result"
    }
   ],
   "source": [
    "#Reading the file into a dataframe and viewing the first few rows\n",
    "dff = pd.read_csv('food.csv')\n",
    "\n",
    "# Loop through columns and remove redundant 'Data.' tag from column names\n",
    "for col in dff.columns:\n",
    "    new_col = col.replace('Data.', '')  # Remove 'Data.' from the column name\n",
    "    dff.rename(columns={col: new_col}, inplace=True)  # Rename the column name in dataframe\n",
    "\n",
    "# Show the first few rows of the dataset\n",
    "dff.describe()"
   ],
   "metadata": {
    "collapsed": false,
    "ExecuteTime": {
     "end_time": "2023-11-20T14:34:46.544914Z",
     "start_time": "2023-11-20T14:34:46.469675Z"
    }
   },
   "id": "f31ce10f8421bcc5"
  },
  {
   "cell_type": "markdown",
   "source": [
    "## Data Preprocessing"
   ],
   "metadata": {
    "collapsed": false
   },
   "id": "93ea2c7be0f45a3"
  },
  {
   "cell_type": "markdown",
   "source": [
    "Because *2nd Household Weight* and *1st Household Weight* are the same measure expressed in different units and this column has more nulls, we will drop *2nd Household Weight* and it's corresponding *Household Weights.2nd Household Weight Description* below.\n",
    "\n",
    "Also, because Household Weight Description doesn't really tell us anything that the *Household Weights.1st Household Weight* already containes, we will drop *Household Weights.1st Household Weight Description* as well.\n",
    "\n",
    "Furthermore, all foods should have a Weight (g) greater than 0. We will remove all rows where the Weight (g) is 0."
   ],
   "metadata": {
    "collapsed": false
   },
   "id": "a8fe4a199cc2a20a"
  },
  {
   "cell_type": "code",
   "execution_count": null,
   "outputs": [],
   "source": [
    "# Drop 'Household Weight Description' columns\n",
    "dff.drop(['Household Weights.2nd Household Weight Description', 'Household Weights.2nd Household Weight','Household Weights.1st Household Weight Description'], axis=1, inplace=True)\n",
    "\n",
    "# Drop rows where Household Weights.1st Household Weight is 0\n",
    "dff = dff[dff['Household Weights.1st Household Weight'] != 0]"
   ],
   "metadata": {
    "collapsed": false
   },
   "id": "e6bce94eff7d5d52"
  },
  {
   "cell_type": "markdown",
   "source": [
    "We will also drop *Vitamin A - IU* because it is redundant to *Vitamin A - RAE* and the [NIH](https://ods.od.nih.gov/factsheets/VitaminA-HealthProfessional/#:~:text=The%20units%20of%20measurement%20for,beta%2Dcarotene%20%3D%200.3%20mcg%20RAE) recommends using *Vitamin A - RAE* to measure Vitamin A intake."
   ],
   "metadata": {
    "collapsed": false
   },
   "id": "b7b250f229616d1"
  },
  {
   "cell_type": "code",
   "execution_count": null,
   "outputs": [],
   "source": [
    "# Drop *Vitamin A - IU* because it is redundant with *Vitamin A - RAE*\n",
    "dff.drop(['Vitamins.Vitamin A - IU'], axis=1, inplace=True)"
   ],
   "metadata": {
    "collapsed": false
   },
   "id": "69bb06718321f0a1"
  },
  {
   "cell_type": "markdown",
   "source": [
    "Looking at the means, std. deviations, mins, and maxes, of each of our fields we can see that our data needs to be evaluated column by column to determine if each field makes sense. At face value, a mean of 21.8 for Carbohydrates and 37.2 for Cholesterol seems off, but we need to consider the units of each column. \n",
    "\n",
    "Of course, we will treat the Data Bank Number as a surrogate key and disregard its distribution. Similarly, Category and Description are categorical variables and we will them in our unit analysis.\n",
    "\n",
    "Documentation for the dataset is a bit weak. For example, though the first few attributes have clearly defined units in Kaggle, the units for the remaining numeric attributes are not mentioned. Using the source of the data, the USDA FoodData Central, we can compare the values in our dataset to the source of truth and assume the units for each column. To make this simple, we will take the dataset's first entry, Butter [1001](https://fdc.nal.usda.gov/fdc-app.html#/food-details/790508/nutrients). We will assume that the units for each column are the same as the units in the source of truth unless values are off by order(s) of magnitude:\n",
    "\n",
    "**Attribute: Unit**\n",
    "1. Ash: g\n",
    "2. Alpha Carotene: µg\n",
    "3. Beta Carotene: µg\n",
    "4. Beta Cryptoxanthin: µg\n",
    "5. Carbohydrate: g\n",
    "6. Cholesterol: mg\n",
    "7. Choline: mg\n",
    "8. Fat.Monosaturated Fat: g\n",
    "9. Fat.Polysaturated Fat: g\n",
    "10. Fat.Saturated Fat: g\n",
    "11. Fat.Total Lipid: g\n",
    "12. Fiber: g\n",
    "13. Household Weights.1st Household Weight: g\n",
    "14. Kilocalories: kcal\n",
    "15. Lutein and Zeaxanthin: µg\n",
    "16. Lycopene: µg\n",
    "17. Major Minerals.Calcium: mg\n",
    "18. Major Minerals.Copper: mg\n",
    "19. Major Minerals.Iron: mg\n",
    "20. Major Minerals.Magnesium: mg\n",
    "21. Major Minerals.Phosphorus: mg\n",
    "22. Major Minerals.Potassium: mg\n",
    "23. Major Minerals.Sodium: mg\n",
    "24. Major Minerals.Zinc: mg\n",
    "25. Manganese: mg\n",
    "26. Niacin: mg\n",
    "27. Pantothenic Acid: mg\n",
    "28. Protein: g\n",
    "29. Refuse Percentage: % by volume\n",
    "30. Retinol: µg\n",
    "31. Riboflavin: mg\n",
    "32. Selenium: µg\n",
    "33. Sugar Total: g\n",
    "34. Thiamin: mg\n",
    "35. Vitamins.Vitamin A - RAE: µg\n",
    "36. Vitamins.Vitamin B12: µg\n",
    "37. Vitamins.Vitamin B6: µg\n",
    "38. Vitamins.Vitamin C: µg\n",
    "39. Vitamins.Vitamin E: mg\n",
    "40. Vitamins.Vitamin K: µg\n",
    "41. Water: g"
   ],
   "metadata": {
    "collapsed": false
   },
   "id": "ae7d63c4a6f36ae1"
  },
  {
   "cell_type": "markdown",
   "source": [
    "Taking a look at the data again, everything seems to make sense. I find it a little strange that the Carbohydrate standard deviation is so high, but that could be because variety of foods in the dataset.\n",
    "\n",
    "Also, though most of these fields are self-explanatory, I'll provide a quick definition for the ones that aren't:\n",
    "* **Ash**: The inorganic residue remaining after the water and organic matter have been removed by heating in the presence of oxidizing agents, which provides a measure of the total amount of minerals within a food.\n",
    "* **Refuse Percentage**: The percentage of a food that is not normally consumed, e.g. bones, shells, seeds, etc.\n",
    "* **Retinol**: A form of Vitamin A.\n",
    "\n",
    "As a final note, I will not be translating categorical data found in the *Categgory* column into a set of dummy variables because categorization is arbitrary. For example, the column contains a few entries that are not necessarily food types, e.g. 'Spices and Herbs', 'no category', etc. and occassionally foods of the same type are split into categories by brand e.g. 'Soup', 'Campbell's Soup'. I could clean this up by introducing a new roll-up category, but this is beyond the scope of this project.\n",
    "\n",
    "To practice working with dummy variables, however, I will remove the *Vitamins.Vitamin B12* column because, as we can see below, it has the lowest correlation with Kilocalories of all the Vitamins. I'll then add a dummy variable for the column. "
   ],
   "metadata": {
    "collapsed": false
   },
   "id": "f41260fc4fd2d1c4"
  },
  {
   "cell_type": "markdown",
   "source": [
    "Finally, let's drop the *Data Bank Number* column because it is a surrogate key and the *Category* and *Description* columns because they are categorical variables that we are not going to be using in our model."
   ],
   "metadata": {
    "collapsed": false
   },
   "id": "83c3f0848ee3a8f8"
  },
  {
   "cell_type": "code",
   "execution_count": null,
   "outputs": [],
   "source": [
    "# Drop the 'Data Bank Number', 'Category', and 'Description' columns\n",
    "dff.drop(['Category', 'Description', 'Nutrient Data Bank Number'], axis=1, inplace=True)"
   ],
   "metadata": {
    "collapsed": false
   },
   "id": "2cca0476f8b435c1"
  },
  {
   "cell_type": "markdown",
   "source": [
    "## Train Test Split\n",
    "Let's load the pre-processed data into an H2O frame and split it up into training and test sets. We will use 80% of the data for training and 20% for testing.\n",
    "\n",
    "Remember, our predictors will be all the remaining columns except for *Kilocalories*, our response variable."
   ],
   "metadata": {
    "collapsed": false
   },
   "id": "3ee281ae6d308570"
  },
  {
   "cell_type": "code",
   "execution_count": null,
   "outputs": [],
   "source": [
    "# Show initial shape of dataframe\n",
    "print('Initial shape of dataframe:', dff.shape)"
   ],
   "metadata": {
    "collapsed": false
   },
   "id": "41f24979ecc0897c"
  },
  {
   "cell_type": "code",
   "execution_count": null,
   "outputs": [],
   "source": [
    "# Convert the dataframe to an H2OFrame\n",
    "df = h2o.H2OFrame(dff)\n",
    "\n",
    "# Splitting the data into training and test sets\n",
    "pct_rows=0.80\n",
    "df_train, df_test = df.split_frame([pct_rows], seed = 1)\n",
    "\n",
    "# Show shape of training set and test set\n",
    "print('Training set shape:', df_train.shape)\n",
    "print('Test set shape:', df_test.shape)"
   ],
   "metadata": {
    "collapsed": false
   },
   "id": "eb332a45cf532293"
  },
  {
   "cell_type": "code",
   "execution_count": null,
   "outputs": [],
   "source": [
    "# Setting the predictor and response variables\n",
    "y = 'Kilocalories'\n",
    "X = list(df.columns)\n",
    "X.remove(y)\n",
    "\n",
    "# Print predictors\n",
    "print('Predictors:', X)\n",
    "\n",
    "# Print response variable\n",
    "print('Response:', y)"
   ],
   "metadata": {
    "collapsed": false
   },
   "id": "622943d9a27bf42"
  },
  {
   "cell_type": "markdown",
   "source": [
    "## Fitting Some Models"
   ],
   "metadata": {
    "collapsed": false
   },
   "id": "3c70aedcd3195ab7"
  },
  {
   "cell_type": "markdown",
   "source": [
    "### Linear Regression"
   ],
   "metadata": {
    "collapsed": false
   },
   "id": "2eadc2f03ac86aba"
  }
 ],
 "metadata": {
  "kernelspec": {
   "display_name": "Python 3",
   "language": "python",
   "name": "python3"
  },
  "language_info": {
   "codemirror_mode": {
    "name": "ipython",
    "version": 2
   },
   "file_extension": ".py",
   "mimetype": "text/x-python",
   "name": "python",
   "nbconvert_exporter": "python",
   "pygments_lexer": "ipython2",
   "version": "2.7.6"
  }
 },
 "nbformat": 4,
 "nbformat_minor": 5
}
