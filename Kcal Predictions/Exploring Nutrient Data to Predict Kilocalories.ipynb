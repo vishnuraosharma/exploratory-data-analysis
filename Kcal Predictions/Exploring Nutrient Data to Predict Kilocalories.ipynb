{
 "cells": [
  {
   "cell_type": "markdown",
   "source": [
    "# **Predicting Kilocalories Based on Nutritional Information**\n",
    "*Exploratory Data Analysis* | *Feature Selection* | *Model Building* | *Model Evaluation* | *Regression* | *AutoML* | *SHAP Values*\n",
    "\n",
    "* Author: Vishnu Rao-Sharma\n",
    "* Published: Fall 2023\n",
    "\n",
    "## Abstract\n",
    "With this dataset, I intend to find the relationship between macro/micro nutrients and Kilocalories in food. I will use SHRUTI SAXENA's [Food Nutrition Dataset](https://www.kaggle.com/datasets/shrutisaxena/food-nutrition-dataset?resource=download&select=food.csv) which is based on the USDA's [FoodData Central database](https://fdc.nal.usda.gov/fdc-app.html#/) to build a models that can predict the calories in a food based on key nutritional information. \n",
    "\n",
    "To begin, I preprocess the raw dataset and analyze the incoming dataset. This analysis helped determine the most important for predicting calories:\n",
    "* \n",
    "\n",
    "Using these selected features, I build a few models with the selected features using the following regression techniques:\n",
    "* OLS Linear Regression\n",
    "* Gradient Boosting Regression (GBM)\n",
    "* XGBoost Regression (XGB)\n",
    "\n",
    "Before evaluating the models, I perform a grid search with k=5 cross-validation to find solid hyperparameters for the non-linear regression models. \n",
    "\n",
    "Finally, I compare model accuracy on the test set based on RMSE, and compare interpretability with feature SHAP values. This evaluation finds that the model built using UPDATE had the lowest RMSE. "
   ],
   "metadata": {
    "collapsed": false
   },
   "id": "b4f4dabde3c71a4d"
  },
  {
   "cell_type": "markdown",
   "source": [
    "## Preparing Libraries and Setting-up AutoML\n",
    "Before we get into the dataset, let's start by getting our packages, libraries, and Auto-ML config in order"
   ],
   "metadata": {
    "collapsed": false
   },
   "id": "7f3b21833cc99f67"
  },
  {
   "cell_type": "code",
   "execution_count": 1,
   "outputs": [
    {
     "name": "stdout",
     "output_type": "stream",
     "text": [
      "Requirement already satisfied: pip in /Users/vraosharma/Desktop/Python/DSEMT/exploratory-data-analysis/venv/lib/python3.10/site-packages (23.3.1)\r\n",
      "Requirement already satisfied: requests in /Users/vraosharma/Desktop/Python/DSEMT/exploratory-data-analysis/venv/lib/python3.10/site-packages (2.31.0)\r\n",
      "Requirement already satisfied: charset-normalizer<4,>=2 in /Users/vraosharma/Desktop/Python/DSEMT/exploratory-data-analysis/venv/lib/python3.10/site-packages (from requests) (3.3.1)\r\n",
      "Requirement already satisfied: idna<4,>=2.5 in /Users/vraosharma/Desktop/Python/DSEMT/exploratory-data-analysis/venv/lib/python3.10/site-packages (from requests) (3.4)\r\n",
      "Requirement already satisfied: urllib3<3,>=1.21.1 in /Users/vraosharma/Desktop/Python/DSEMT/exploratory-data-analysis/venv/lib/python3.10/site-packages (from requests) (2.0.7)\r\n",
      "Requirement already satisfied: certifi>=2017.4.17 in /Users/vraosharma/Desktop/Python/DSEMT/exploratory-data-analysis/venv/lib/python3.10/site-packages (from requests) (2023.7.22)\r\n",
      "Requirement already satisfied: tabulate in /Users/vraosharma/Desktop/Python/DSEMT/exploratory-data-analysis/venv/lib/python3.10/site-packages (0.9.0)\r\n",
      "Requirement already satisfied: colorama>=0.3.8 in /Users/vraosharma/Desktop/Python/DSEMT/exploratory-data-analysis/venv/lib/python3.10/site-packages (0.4.6)\r\n",
      "Requirement already satisfied: future in /Users/vraosharma/Desktop/Python/DSEMT/exploratory-data-analysis/venv/lib/python3.10/site-packages (0.18.3)\r\n",
      "Requirement already satisfied: shap in /Users/vraosharma/Desktop/Python/DSEMT/exploratory-data-analysis/venv/lib/python3.10/site-packages (0.43.0)\r\n",
      "Requirement already satisfied: numpy in /Users/vraosharma/Desktop/Python/DSEMT/exploratory-data-analysis/venv/lib/python3.10/site-packages (from shap) (1.26.1)\r\n",
      "Requirement already satisfied: scipy in /Users/vraosharma/Desktop/Python/DSEMT/exploratory-data-analysis/venv/lib/python3.10/site-packages (from shap) (1.11.3)\r\n",
      "Requirement already satisfied: scikit-learn in /Users/vraosharma/Desktop/Python/DSEMT/exploratory-data-analysis/venv/lib/python3.10/site-packages (from shap) (1.3.2)\r\n",
      "Requirement already satisfied: pandas in /Users/vraosharma/Desktop/Python/DSEMT/exploratory-data-analysis/venv/lib/python3.10/site-packages (from shap) (2.1.1)\r\n",
      "Requirement already satisfied: tqdm>=4.27.0 in /Users/vraosharma/Desktop/Python/DSEMT/exploratory-data-analysis/venv/lib/python3.10/site-packages (from shap) (4.66.1)\r\n",
      "Requirement already satisfied: packaging>20.9 in /Users/vraosharma/Desktop/Python/DSEMT/exploratory-data-analysis/venv/lib/python3.10/site-packages (from shap) (23.2)\r\n",
      "Requirement already satisfied: slicer==0.0.7 in /Users/vraosharma/Desktop/Python/DSEMT/exploratory-data-analysis/venv/lib/python3.10/site-packages (from shap) (0.0.7)\r\n",
      "Requirement already satisfied: numba in /Users/vraosharma/Desktop/Python/DSEMT/exploratory-data-analysis/venv/lib/python3.10/site-packages (from shap) (0.58.1)\r\n",
      "Requirement already satisfied: cloudpickle in /Users/vraosharma/Desktop/Python/DSEMT/exploratory-data-analysis/venv/lib/python3.10/site-packages (from shap) (3.0.0)\r\n",
      "Requirement already satisfied: llvmlite<0.42,>=0.41.0dev0 in /Users/vraosharma/Desktop/Python/DSEMT/exploratory-data-analysis/venv/lib/python3.10/site-packages (from numba->shap) (0.41.1)\r\n",
      "Requirement already satisfied: python-dateutil>=2.8.2 in /Users/vraosharma/Desktop/Python/DSEMT/exploratory-data-analysis/venv/lib/python3.10/site-packages (from pandas->shap) (2.8.2)\r\n",
      "Requirement already satisfied: pytz>=2020.1 in /Users/vraosharma/Desktop/Python/DSEMT/exploratory-data-analysis/venv/lib/python3.10/site-packages (from pandas->shap) (2023.3.post1)\r\n",
      "Requirement already satisfied: tzdata>=2022.1 in /Users/vraosharma/Desktop/Python/DSEMT/exploratory-data-analysis/venv/lib/python3.10/site-packages (from pandas->shap) (2023.3)\r\n",
      "Requirement already satisfied: joblib>=1.1.1 in /Users/vraosharma/Desktop/Python/DSEMT/exploratory-data-analysis/venv/lib/python3.10/site-packages (from scikit-learn->shap) (1.3.2)\r\n",
      "Requirement already satisfied: threadpoolctl>=2.0.0 in /Users/vraosharma/Desktop/Python/DSEMT/exploratory-data-analysis/venv/lib/python3.10/site-packages (from scikit-learn->shap) (3.2.0)\r\n",
      "Requirement already satisfied: six>=1.5 in /Users/vraosharma/Desktop/Python/DSEMT/exploratory-data-analysis/venv/lib/python3.10/site-packages (from python-dateutil>=2.8.2->pandas->shap) (1.16.0)\r\n",
      "Requirement already satisfied: xgboost in /Users/vraosharma/Desktop/Python/DSEMT/exploratory-data-analysis/venv/lib/python3.10/site-packages (2.0.2)\r\n",
      "Requirement already satisfied: numpy in /Users/vraosharma/Desktop/Python/DSEMT/exploratory-data-analysis/venv/lib/python3.10/site-packages (from xgboost) (1.26.1)\r\n",
      "Requirement already satisfied: scipy in /Users/vraosharma/Desktop/Python/DSEMT/exploratory-data-analysis/venv/lib/python3.10/site-packages (from xgboost) (1.11.3)\r\n",
      "Requirement already satisfied: gbm in /Users/vraosharma/Desktop/Python/DSEMT/exploratory-data-analysis/venv/lib/python3.10/site-packages (0.0.1)\r\n",
      "Requirement already satisfied: numpy in /Users/vraosharma/Desktop/Python/DSEMT/exploratory-data-analysis/venv/lib/python3.10/site-packages (from gbm) (1.26.1)\r\n",
      "Requirement already satisfied: astropy in /Users/vraosharma/Desktop/Python/DSEMT/exploratory-data-analysis/venv/lib/python3.10/site-packages (from gbm) (6.0.0)\r\n",
      "Requirement already satisfied: pyerfa>=2.0 in /Users/vraosharma/Desktop/Python/DSEMT/exploratory-data-analysis/venv/lib/python3.10/site-packages (from astropy->gbm) (2.0.1.1)\r\n",
      "Requirement already satisfied: astropy-iers-data>=0.2023.10.30.0.29.53 in /Users/vraosharma/Desktop/Python/DSEMT/exploratory-data-analysis/venv/lib/python3.10/site-packages (from astropy->gbm) (0.2023.11.27.0.30.38)\r\n",
      "Requirement already satisfied: PyYAML>=3.13 in /Users/vraosharma/Desktop/Python/DSEMT/exploratory-data-analysis/venv/lib/python3.10/site-packages (from astropy->gbm) (6.0.1)\r\n",
      "Requirement already satisfied: packaging>=19.0 in /Users/vraosharma/Desktop/Python/DSEMT/exploratory-data-analysis/venv/lib/python3.10/site-packages (from astropy->gbm) (23.2)\r\n",
      "Looking in links: http://h2o-release.s3.amazonaws.com/h2o/latest_stable_Py.html\r\n",
      "Requirement already satisfied: h2o in /Users/vraosharma/Desktop/Python/DSEMT/exploratory-data-analysis/venv/lib/python3.10/site-packages (3.44.0.1)\r\n",
      "Requirement already satisfied: requests in /Users/vraosharma/Desktop/Python/DSEMT/exploratory-data-analysis/venv/lib/python3.10/site-packages (from h2o) (2.31.0)\r\n",
      "Requirement already satisfied: tabulate in /Users/vraosharma/Desktop/Python/DSEMT/exploratory-data-analysis/venv/lib/python3.10/site-packages (from h2o) (0.9.0)\r\n",
      "Requirement already satisfied: charset-normalizer<4,>=2 in /Users/vraosharma/Desktop/Python/DSEMT/exploratory-data-analysis/venv/lib/python3.10/site-packages (from requests->h2o) (3.3.1)\r\n",
      "Requirement already satisfied: idna<4,>=2.5 in /Users/vraosharma/Desktop/Python/DSEMT/exploratory-data-analysis/venv/lib/python3.10/site-packages (from requests->h2o) (3.4)\r\n",
      "Requirement already satisfied: urllib3<3,>=1.21.1 in /Users/vraosharma/Desktop/Python/DSEMT/exploratory-data-analysis/venv/lib/python3.10/site-packages (from requests->h2o) (2.0.7)\r\n",
      "Requirement already satisfied: certifi>=2017.4.17 in /Users/vraosharma/Desktop/Python/DSEMT/exploratory-data-analysis/venv/lib/python3.10/site-packages (from requests->h2o) (2023.7.22)\r\n"
     ]
    }
   ],
   "source": [
    "# Installing necessary pkgs\n",
    "!pip install --upgrade pip\n",
    "!pip install requests\n",
    "!pip install tabulate\n",
    "!pip install \"colorama>=0.3.8\"\n",
    "!pip install future\n",
    "!pip install shap\n",
    "!pip install xgboost\n",
    "!pip install gbm\n",
    "!pip3 install -f http://h2o-release.s3.amazonaws.com/h2o/latest_stable_Py.html h2o"
   ],
   "metadata": {
    "collapsed": false,
    "ExecuteTime": {
     "end_time": "2023-12-10T21:59:25.962289Z",
     "start_time": "2023-12-10T21:59:16.668525Z"
    }
   },
   "id": "ce6eb619ce213589"
  },
  {
   "cell_type": "code",
   "execution_count": 2,
   "outputs": [],
   "source": [
    "# Importing libs\n",
    "import h2o\n",
    "from h2o.automl import H2OAutoML\n",
    "import random, os, sys\n",
    "import psutil\n",
    "import random\n",
    "import logging\n",
    "import pandas as pd\n",
    "import seaborn as sns\n",
    "import numpy as np\n",
    "from matplotlib import pyplot as plt\n",
    "import statsmodels.api as sm\n",
    "from scipy.stats import shapiro\n",
    "from statistics import LinearRegression\n",
    "from sklearn.linear_model import LinearRegression\n",
    "from sklearn.metrics import mean_squared_error\n",
    "from sklearn.model_selection import train_test_split\n",
    "from mlxtend.feature_selection import SequentialFeatureSelector as SFS\n",
    "from sklearn.feature_selection import VarianceThreshold\n",
    "from mlxtend.plotting import plot_sequential_feature_selection as plot_sfs\n",
    "from mlxtend.evaluate import bias_variance_decomp"
   ],
   "metadata": {
    "collapsed": false,
    "ExecuteTime": {
     "end_time": "2023-12-10T21:59:29.789012Z",
     "start_time": "2023-12-10T21:59:25.968368Z"
    }
   },
   "id": "4500db24f4645c7b"
  },
  {
   "cell_type": "code",
   "execution_count": 3,
   "outputs": [
    {
     "name": "stdout",
     "output_type": "stream",
     "text": [
      "1\n",
      "Checking whether there is an H2O instance running at http://localhost:48164..... not found.\n",
      "Attempting to start a local H2O server...\n",
      "  Java Version: openjdk version \"17.0.4\" 2022-07-19; OpenJDK Runtime Environment Temurin-17.0.4+8 (build 17.0.4+8); OpenJDK 64-Bit Server VM Temurin-17.0.4+8 (build 17.0.4+8, mixed mode)\n",
      "  Starting server from /Users/vraosharma/Desktop/Python/DSEMT/exploratory-data-analysis/venv/lib/python3.10/site-packages/h2o/backend/bin/h2o.jar\n",
      "  Ice root: /var/folders/36/syxnttfx02z8nxmjh2_llhnr0000gn/T/tmp5ezcsstb\n",
      "  JVM stdout: /var/folders/36/syxnttfx02z8nxmjh2_llhnr0000gn/T/tmp5ezcsstb/h2o_vraosharma_started_from_python.out\n",
      "  JVM stderr: /var/folders/36/syxnttfx02z8nxmjh2_llhnr0000gn/T/tmp5ezcsstb/h2o_vraosharma_started_from_python.err\n",
      "  Server is running at http://127.0.0.1:48164\n",
      "Connecting to H2O server at http://127.0.0.1:48164 ... successful.\n"
     ]
    },
    {
     "data": {
      "text/plain": "--------------------------  ---------------------------------\nH2O_cluster_uptime:         03 secs\nH2O_cluster_timezone:       America/New_York\nH2O_data_parsing_timezone:  UTC\nH2O_cluster_version:        3.44.0.1\nH2O_cluster_version_age:    1 month and 24 days\nH2O_cluster_name:           H2O_from_python_vraosharma_ykpc1h\nH2O_cluster_total_nodes:    1\nH2O_cluster_free_memory:    4 Gb\nH2O_cluster_total_cores:    8\nH2O_cluster_allowed_cores:  8\nH2O_cluster_status:         locked, healthy\nH2O_connection_url:         http://127.0.0.1:48164\nH2O_connection_proxy:       {\"http\": null, \"https\": null}\nH2O_internal_security:      False\nPython_version:             3.10.6 final\n--------------------------  ---------------------------------",
      "text/html": "\n<style>\n\n#h2o-table-1.h2o-container {\n  overflow-x: auto;\n}\n#h2o-table-1 .h2o-table {\n  /* width: 100%; */\n  margin-top: 1em;\n  margin-bottom: 1em;\n}\n#h2o-table-1 .h2o-table caption {\n  white-space: nowrap;\n  caption-side: top;\n  text-align: left;\n  /* margin-left: 1em; */\n  margin: 0;\n  font-size: larger;\n}\n#h2o-table-1 .h2o-table thead {\n  white-space: nowrap; \n  position: sticky;\n  top: 0;\n  box-shadow: 0 -1px inset;\n}\n#h2o-table-1 .h2o-table tbody {\n  overflow: auto;\n}\n#h2o-table-1 .h2o-table th,\n#h2o-table-1 .h2o-table td {\n  text-align: right;\n  /* border: 1px solid; */\n}\n#h2o-table-1 .h2o-table tr:nth-child(even) {\n  /* background: #F5F5F5 */\n}\n\n</style>      \n<div id=\"h2o-table-1\" class=\"h2o-container\">\n  <table class=\"h2o-table\">\n    <caption></caption>\n    <thead></thead>\n    <tbody><tr><td>H2O_cluster_uptime:</td>\n<td>03 secs</td></tr>\n<tr><td>H2O_cluster_timezone:</td>\n<td>America/New_York</td></tr>\n<tr><td>H2O_data_parsing_timezone:</td>\n<td>UTC</td></tr>\n<tr><td>H2O_cluster_version:</td>\n<td>3.44.0.1</td></tr>\n<tr><td>H2O_cluster_version_age:</td>\n<td>1 month and 24 days</td></tr>\n<tr><td>H2O_cluster_name:</td>\n<td>H2O_from_python_vraosharma_ykpc1h</td></tr>\n<tr><td>H2O_cluster_total_nodes:</td>\n<td>1</td></tr>\n<tr><td>H2O_cluster_free_memory:</td>\n<td>4 Gb</td></tr>\n<tr><td>H2O_cluster_total_cores:</td>\n<td>8</td></tr>\n<tr><td>H2O_cluster_allowed_cores:</td>\n<td>8</td></tr>\n<tr><td>H2O_cluster_status:</td>\n<td>locked, healthy</td></tr>\n<tr><td>H2O_connection_url:</td>\n<td>http://127.0.0.1:48164</td></tr>\n<tr><td>H2O_connection_proxy:</td>\n<td>{\"http\": null, \"https\": null}</td></tr>\n<tr><td>H2O_internal_security:</td>\n<td>False</td></tr>\n<tr><td>Python_version:</td>\n<td>3.10.6 final</td></tr></tbody>\n  </table>\n</div>\n"
     },
     "metadata": {},
     "output_type": "display_data"
    }
   ],
   "source": [
    "# Setting up H2O VM\n",
    "min_mem_size=6 \n",
    "pct_memory=0.5\n",
    "virtual_memory=psutil.virtual_memory()\n",
    "min_mem_size=int(round(int(pct_memory*virtual_memory.available)/1073741824,0))\n",
    "print(min_mem_size)\n",
    "\n",
    "port_no=random.randint(5555,55555)\n",
    "try:\n",
    "  h2o.init(strict_version_check=False,min_mem_size_GB=min_mem_size,port=port_no) # start h2o\n",
    "except:\n",
    "  logging.critical('h2o.init')\n",
    "  h2o.download_all_logs(dirname=logs_path, filename=logfile)    \n",
    "  h2o.cluster().shutdown()\n",
    "  sys.exit(2)"
   ],
   "metadata": {
    "collapsed": false,
    "ExecuteTime": {
     "end_time": "2023-12-10T21:59:35.456617Z",
     "start_time": "2023-12-10T21:59:29.788113Z"
    }
   },
   "id": "1f9b15ab2be99539"
  },
  {
   "cell_type": "markdown",
   "source": [
    "## Importing and Pre-processing the Dataset\n",
    "In this section we will evaluate the hygiene of the dataset and clean it up as necessary."
   ],
   "metadata": {
    "collapsed": false
   },
   "id": "314fb9f015bb52de"
  },
  {
   "cell_type": "code",
   "execution_count": 4,
   "outputs": [
    {
     "name": "stdout",
     "output_type": "stream",
     "text": [
      "zsh:1: command not found: wget\r\n"
     ]
    }
   ],
   "source": [
    "# Addding the dataset from github https://github.com/vraosharma-northeastern/exploratory-data-analysis/blob/main/Nutrition%20/food.csv\n",
    "!wget https://raw.githubusercontent.com/vishnuraosharma/exploratory-data-analysis/main/Kcal%20Predictions/food.csv"
   ],
   "metadata": {
    "collapsed": false,
    "ExecuteTime": {
     "end_time": "2023-12-10T21:59:35.717516Z",
     "start_time": "2023-12-10T21:59:35.459616Z"
    }
   },
   "id": "ba617baa9212335f"
  },
  {
   "cell_type": "code",
   "execution_count": 5,
   "outputs": [
    {
     "data": {
      "text/plain": "     Category               Description  Nutrient Data Bank Number  \\\n0      BUTTER          BUTTER,WITH SALT                       1001   \n1      BUTTER  BUTTER,WHIPPED,WITH SALT                       1002   \n2  BUTTER OIL      BUTTER OIL,ANHYDROUS                       1003   \n3      CHEESE               CHEESE,BLUE                       1004   \n4      CHEESE              CHEESE,BRICK                       1005   \n\n   Alpha Carotene   Ash  Beta Carotene  Beta Cryptoxanthin  Carbohydrate  \\\n0               0  2.11            158                   0          0.06   \n1               0  2.11            158                   0          0.06   \n2               0  0.00            193                   0          0.00   \n3               0  5.11             74                   0          2.34   \n4               0  3.18             76                   0          2.79   \n\n   Cholesterol  Choline  ...  Major Minerals.Potassium  Major Minerals.Sodium  \\\n0          215       19  ...                        24                    576   \n1          219       19  ...                        26                    827   \n2          256       22  ...                         5                      2   \n3           75       15  ...                       256                   1395   \n4           94       15  ...                       136                    560   \n\n   Major Minerals.Zinc  Vitamins.Vitamin A - IU  Vitamins.Vitamin A - RAE  \\\n0                 0.09                     2499                       684   \n1                 0.05                     2499                       684   \n2                 0.01                     3069                       840   \n3                 2.66                      763                       198   \n4                 2.60                     1080                       292   \n\n   Vitamins.Vitamin B12  Vitamins.Vitamin B6  Vitamins.Vitamin C  \\\n0                  0.17                0.003                 0.0   \n1                  0.13                0.003                 0.0   \n2                  0.01                0.001                 0.0   \n3                  1.22                0.166                 0.0   \n4                  1.26                0.065                 0.0   \n\n   Vitamins.Vitamin E  Vitamins.Vitamin K  \n0                2.32                 7.0  \n1                2.32                 7.0  \n2                2.80                 8.6  \n3                0.25                 2.4  \n4                0.26                 2.5  \n\n[5 rows x 48 columns]",
      "text/html": "<div>\n<style scoped>\n    .dataframe tbody tr th:only-of-type {\n        vertical-align: middle;\n    }\n\n    .dataframe tbody tr th {\n        vertical-align: top;\n    }\n\n    .dataframe thead th {\n        text-align: right;\n    }\n</style>\n<table border=\"1\" class=\"dataframe\">\n  <thead>\n    <tr style=\"text-align: right;\">\n      <th></th>\n      <th>Category</th>\n      <th>Description</th>\n      <th>Nutrient Data Bank Number</th>\n      <th>Alpha Carotene</th>\n      <th>Ash</th>\n      <th>Beta Carotene</th>\n      <th>Beta Cryptoxanthin</th>\n      <th>Carbohydrate</th>\n      <th>Cholesterol</th>\n      <th>Choline</th>\n      <th>...</th>\n      <th>Major Minerals.Potassium</th>\n      <th>Major Minerals.Sodium</th>\n      <th>Major Minerals.Zinc</th>\n      <th>Vitamins.Vitamin A - IU</th>\n      <th>Vitamins.Vitamin A - RAE</th>\n      <th>Vitamins.Vitamin B12</th>\n      <th>Vitamins.Vitamin B6</th>\n      <th>Vitamins.Vitamin C</th>\n      <th>Vitamins.Vitamin E</th>\n      <th>Vitamins.Vitamin K</th>\n    </tr>\n  </thead>\n  <tbody>\n    <tr>\n      <th>0</th>\n      <td>BUTTER</td>\n      <td>BUTTER,WITH SALT</td>\n      <td>1001</td>\n      <td>0</td>\n      <td>2.11</td>\n      <td>158</td>\n      <td>0</td>\n      <td>0.06</td>\n      <td>215</td>\n      <td>19</td>\n      <td>...</td>\n      <td>24</td>\n      <td>576</td>\n      <td>0.09</td>\n      <td>2499</td>\n      <td>684</td>\n      <td>0.17</td>\n      <td>0.003</td>\n      <td>0.0</td>\n      <td>2.32</td>\n      <td>7.0</td>\n    </tr>\n    <tr>\n      <th>1</th>\n      <td>BUTTER</td>\n      <td>BUTTER,WHIPPED,WITH SALT</td>\n      <td>1002</td>\n      <td>0</td>\n      <td>2.11</td>\n      <td>158</td>\n      <td>0</td>\n      <td>0.06</td>\n      <td>219</td>\n      <td>19</td>\n      <td>...</td>\n      <td>26</td>\n      <td>827</td>\n      <td>0.05</td>\n      <td>2499</td>\n      <td>684</td>\n      <td>0.13</td>\n      <td>0.003</td>\n      <td>0.0</td>\n      <td>2.32</td>\n      <td>7.0</td>\n    </tr>\n    <tr>\n      <th>2</th>\n      <td>BUTTER OIL</td>\n      <td>BUTTER OIL,ANHYDROUS</td>\n      <td>1003</td>\n      <td>0</td>\n      <td>0.00</td>\n      <td>193</td>\n      <td>0</td>\n      <td>0.00</td>\n      <td>256</td>\n      <td>22</td>\n      <td>...</td>\n      <td>5</td>\n      <td>2</td>\n      <td>0.01</td>\n      <td>3069</td>\n      <td>840</td>\n      <td>0.01</td>\n      <td>0.001</td>\n      <td>0.0</td>\n      <td>2.80</td>\n      <td>8.6</td>\n    </tr>\n    <tr>\n      <th>3</th>\n      <td>CHEESE</td>\n      <td>CHEESE,BLUE</td>\n      <td>1004</td>\n      <td>0</td>\n      <td>5.11</td>\n      <td>74</td>\n      <td>0</td>\n      <td>2.34</td>\n      <td>75</td>\n      <td>15</td>\n      <td>...</td>\n      <td>256</td>\n      <td>1395</td>\n      <td>2.66</td>\n      <td>763</td>\n      <td>198</td>\n      <td>1.22</td>\n      <td>0.166</td>\n      <td>0.0</td>\n      <td>0.25</td>\n      <td>2.4</td>\n    </tr>\n    <tr>\n      <th>4</th>\n      <td>CHEESE</td>\n      <td>CHEESE,BRICK</td>\n      <td>1005</td>\n      <td>0</td>\n      <td>3.18</td>\n      <td>76</td>\n      <td>0</td>\n      <td>2.79</td>\n      <td>94</td>\n      <td>15</td>\n      <td>...</td>\n      <td>136</td>\n      <td>560</td>\n      <td>2.60</td>\n      <td>1080</td>\n      <td>292</td>\n      <td>1.26</td>\n      <td>0.065</td>\n      <td>0.0</td>\n      <td>0.26</td>\n      <td>2.5</td>\n    </tr>\n  </tbody>\n</table>\n<p>5 rows × 48 columns</p>\n</div>"
     },
     "execution_count": 5,
     "metadata": {},
     "output_type": "execute_result"
    }
   ],
   "source": [
    "#Reading the file into a dataframe and viewing the first few rows\n",
    "df = pd.read_csv('food.csv')\n",
    "\n",
    "# Loop through columns and remove redundant 'Data.' tag from column names\n",
    "for col in df.columns:\n",
    "    new_col = col.replace('Data.', '')  # Remove 'Data.' from the column name\n",
    "    df.rename(columns={col: new_col}, inplace=True)  # Rename the column name in dataframe\n",
    "\n",
    "# Show the first few rows of the dataset\n",
    "df.head()"
   ],
   "metadata": {
    "collapsed": false,
    "ExecuteTime": {
     "end_time": "2023-12-10T21:59:35.798574Z",
     "start_time": "2023-12-10T21:59:35.676251Z"
    }
   },
   "id": "9bbfd230fd29b9dd"
  },
  {
   "cell_type": "markdown",
   "source": [
    "As we can see above, each row represents a food type; the *Description* column contains a breakdown of the few ingredients that comprise the dish or food as well as details of how it was prepared. Some foods have multiple entries in the dataset because they were prepared in different ways, e.g. raw, cooked, fried, etc. Additionally, some foods have multiple entries because they were prepared with different ingredients, e.g. with or without salt, with or without sugar, etc.\n",
    "\n",
    "The consistency of the data also presents a challenge. For example, the *Category* column contains a few entries that are not necessarily food types, e.g. 'Spices and Herbs', 'no category', etc. and occassionally foods of the same type are split into categories by brand e.g. 'Soup', 'Campbell's Soup'. I am not sure if this is intentional or not, but I will leave this data as is for now. To clean this up, I could use GPT to classify the foods into categories, but that is outside the scope of this project."
   ],
   "metadata": {
    "collapsed": false
   },
   "id": "622481fcf89c9e12"
  },
  {
   "cell_type": "code",
   "execution_count": 6,
   "outputs": [
    {
     "data": {
      "text/plain": "       Nutrient Data Bank Number  Alpha Carotene          Ash  Beta Carotene  \\\ncount                7413.000000     7413.000000  7413.000000    7413.000000   \nmean                14116.443680       21.210711     1.852459     159.043437   \nstd                  8767.416214      269.714183     2.993228    1126.285026   \nmin                  1001.000000        0.000000     0.000000       0.000000   \n25%                  8121.000000        0.000000     0.830000       0.000000   \n50%                 12539.000000        0.000000     1.240000       0.000000   \n75%                 18424.000000        0.000000     2.200000       1.000000   \nmax                 93600.000000    14251.000000    99.800000   42891.000000   \n\n       Beta Cryptoxanthin  Carbohydrate  Cholesterol      Choline  \\\ncount         7413.000000   7413.000000  7413.000000  7413.000000   \nmean             8.776744     21.785381    37.162822    20.673546   \nstd            154.184860     27.123491   119.738438    45.481990   \nmin              0.000000      0.000000     0.000000     0.000000   \n25%              0.000000      0.490000     0.000000     0.000000   \n50%              0.000000      9.290000     2.000000     0.000000   \n75%              0.000000     30.590000    60.000000    20.000000   \nmax           7923.000000    100.000000  3100.000000  1388.000000   \n\n             Fiber  Kilocalories  ...  Major Minerals.Potassium  \\\ncount  7413.000000   7413.000000  ...               7413.000000   \nmean      1.993147    219.655875  ...                268.348172   \nstd       4.292873    171.668713  ...                404.916220   \nmin       0.000000      0.000000  ...                  0.000000   \n25%       0.000000     82.000000  ...                103.000000   \n50%       0.300000    181.000000  ...                210.000000   \n75%       2.300000    331.000000  ...                328.000000   \nmax      79.000000    902.000000  ...              16500.000000   \n\n       Major Minerals.Sodium  Major Minerals.Zinc  Vitamins.Vitamin A - IU  \\\ncount            7413.000000          7413.000000              7413.000000   \nmean              331.590719             1.875125               767.568191   \nstd               977.046544             4.193682              3871.307652   \nmin                 0.000000             0.000000                 0.000000   \n25%                31.000000             0.190000                 0.000000   \n50%                86.000000             0.770000                33.000000   \n75%               428.000000             2.460000               280.000000   \nmax             38758.000000           181.610000            100000.000000   \n\n       Vitamins.Vitamin A - RAE  Vitamins.Vitamin B12  Vitamins.Vitamin B6  \\\ncount               7413.000000           7413.000000          7413.000000   \nmean                  99.437070              1.172903             0.269547   \nstd                  761.653061              4.512816             0.565116   \nmin                    0.000000              0.000000             0.000000   \n25%                    0.000000              0.000000             0.030000   \n50%                    0.000000              0.010000             0.110000   \n75%                   24.000000              0.830000             0.330000   \nmax                30000.000000             98.890000            12.000000   \n\n       Vitamins.Vitamin C  Vitamins.Vitamin E  Vitamins.Vitamin K  \ncount         7413.000000         7413.000000         7413.000000  \nmean             9.075651            0.842837            9.448604  \nstd             63.443284            4.169756           66.067619  \nmin              0.000000            0.000000            0.000000  \n25%              0.000000            0.000000            0.000000  \n50%              0.000000            0.050000            0.000000  \n75%              3.500000            0.390000            1.700000  \nmax           2400.000000          149.400000         1714.500000  \n\n[8 rows x 44 columns]",
      "text/html": "<div>\n<style scoped>\n    .dataframe tbody tr th:only-of-type {\n        vertical-align: middle;\n    }\n\n    .dataframe tbody tr th {\n        vertical-align: top;\n    }\n\n    .dataframe thead th {\n        text-align: right;\n    }\n</style>\n<table border=\"1\" class=\"dataframe\">\n  <thead>\n    <tr style=\"text-align: right;\">\n      <th></th>\n      <th>Nutrient Data Bank Number</th>\n      <th>Alpha Carotene</th>\n      <th>Ash</th>\n      <th>Beta Carotene</th>\n      <th>Beta Cryptoxanthin</th>\n      <th>Carbohydrate</th>\n      <th>Cholesterol</th>\n      <th>Choline</th>\n      <th>Fiber</th>\n      <th>Kilocalories</th>\n      <th>...</th>\n      <th>Major Minerals.Potassium</th>\n      <th>Major Minerals.Sodium</th>\n      <th>Major Minerals.Zinc</th>\n      <th>Vitamins.Vitamin A - IU</th>\n      <th>Vitamins.Vitamin A - RAE</th>\n      <th>Vitamins.Vitamin B12</th>\n      <th>Vitamins.Vitamin B6</th>\n      <th>Vitamins.Vitamin C</th>\n      <th>Vitamins.Vitamin E</th>\n      <th>Vitamins.Vitamin K</th>\n    </tr>\n  </thead>\n  <tbody>\n    <tr>\n      <th>count</th>\n      <td>7413.000000</td>\n      <td>7413.000000</td>\n      <td>7413.000000</td>\n      <td>7413.000000</td>\n      <td>7413.000000</td>\n      <td>7413.000000</td>\n      <td>7413.000000</td>\n      <td>7413.000000</td>\n      <td>7413.000000</td>\n      <td>7413.000000</td>\n      <td>...</td>\n      <td>7413.000000</td>\n      <td>7413.000000</td>\n      <td>7413.000000</td>\n      <td>7413.000000</td>\n      <td>7413.000000</td>\n      <td>7413.000000</td>\n      <td>7413.000000</td>\n      <td>7413.000000</td>\n      <td>7413.000000</td>\n      <td>7413.000000</td>\n    </tr>\n    <tr>\n      <th>mean</th>\n      <td>14116.443680</td>\n      <td>21.210711</td>\n      <td>1.852459</td>\n      <td>159.043437</td>\n      <td>8.776744</td>\n      <td>21.785381</td>\n      <td>37.162822</td>\n      <td>20.673546</td>\n      <td>1.993147</td>\n      <td>219.655875</td>\n      <td>...</td>\n      <td>268.348172</td>\n      <td>331.590719</td>\n      <td>1.875125</td>\n      <td>767.568191</td>\n      <td>99.437070</td>\n      <td>1.172903</td>\n      <td>0.269547</td>\n      <td>9.075651</td>\n      <td>0.842837</td>\n      <td>9.448604</td>\n    </tr>\n    <tr>\n      <th>std</th>\n      <td>8767.416214</td>\n      <td>269.714183</td>\n      <td>2.993228</td>\n      <td>1126.285026</td>\n      <td>154.184860</td>\n      <td>27.123491</td>\n      <td>119.738438</td>\n      <td>45.481990</td>\n      <td>4.292873</td>\n      <td>171.668713</td>\n      <td>...</td>\n      <td>404.916220</td>\n      <td>977.046544</td>\n      <td>4.193682</td>\n      <td>3871.307652</td>\n      <td>761.653061</td>\n      <td>4.512816</td>\n      <td>0.565116</td>\n      <td>63.443284</td>\n      <td>4.169756</td>\n      <td>66.067619</td>\n    </tr>\n    <tr>\n      <th>min</th>\n      <td>1001.000000</td>\n      <td>0.000000</td>\n      <td>0.000000</td>\n      <td>0.000000</td>\n      <td>0.000000</td>\n      <td>0.000000</td>\n      <td>0.000000</td>\n      <td>0.000000</td>\n      <td>0.000000</td>\n      <td>0.000000</td>\n      <td>...</td>\n      <td>0.000000</td>\n      <td>0.000000</td>\n      <td>0.000000</td>\n      <td>0.000000</td>\n      <td>0.000000</td>\n      <td>0.000000</td>\n      <td>0.000000</td>\n      <td>0.000000</td>\n      <td>0.000000</td>\n      <td>0.000000</td>\n    </tr>\n    <tr>\n      <th>25%</th>\n      <td>8121.000000</td>\n      <td>0.000000</td>\n      <td>0.830000</td>\n      <td>0.000000</td>\n      <td>0.000000</td>\n      <td>0.490000</td>\n      <td>0.000000</td>\n      <td>0.000000</td>\n      <td>0.000000</td>\n      <td>82.000000</td>\n      <td>...</td>\n      <td>103.000000</td>\n      <td>31.000000</td>\n      <td>0.190000</td>\n      <td>0.000000</td>\n      <td>0.000000</td>\n      <td>0.000000</td>\n      <td>0.030000</td>\n      <td>0.000000</td>\n      <td>0.000000</td>\n      <td>0.000000</td>\n    </tr>\n    <tr>\n      <th>50%</th>\n      <td>12539.000000</td>\n      <td>0.000000</td>\n      <td>1.240000</td>\n      <td>0.000000</td>\n      <td>0.000000</td>\n      <td>9.290000</td>\n      <td>2.000000</td>\n      <td>0.000000</td>\n      <td>0.300000</td>\n      <td>181.000000</td>\n      <td>...</td>\n      <td>210.000000</td>\n      <td>86.000000</td>\n      <td>0.770000</td>\n      <td>33.000000</td>\n      <td>0.000000</td>\n      <td>0.010000</td>\n      <td>0.110000</td>\n      <td>0.000000</td>\n      <td>0.050000</td>\n      <td>0.000000</td>\n    </tr>\n    <tr>\n      <th>75%</th>\n      <td>18424.000000</td>\n      <td>0.000000</td>\n      <td>2.200000</td>\n      <td>1.000000</td>\n      <td>0.000000</td>\n      <td>30.590000</td>\n      <td>60.000000</td>\n      <td>20.000000</td>\n      <td>2.300000</td>\n      <td>331.000000</td>\n      <td>...</td>\n      <td>328.000000</td>\n      <td>428.000000</td>\n      <td>2.460000</td>\n      <td>280.000000</td>\n      <td>24.000000</td>\n      <td>0.830000</td>\n      <td>0.330000</td>\n      <td>3.500000</td>\n      <td>0.390000</td>\n      <td>1.700000</td>\n    </tr>\n    <tr>\n      <th>max</th>\n      <td>93600.000000</td>\n      <td>14251.000000</td>\n      <td>99.800000</td>\n      <td>42891.000000</td>\n      <td>7923.000000</td>\n      <td>100.000000</td>\n      <td>3100.000000</td>\n      <td>1388.000000</td>\n      <td>79.000000</td>\n      <td>902.000000</td>\n      <td>...</td>\n      <td>16500.000000</td>\n      <td>38758.000000</td>\n      <td>181.610000</td>\n      <td>100000.000000</td>\n      <td>30000.000000</td>\n      <td>98.890000</td>\n      <td>12.000000</td>\n      <td>2400.000000</td>\n      <td>149.400000</td>\n      <td>1714.500000</td>\n    </tr>\n  </tbody>\n</table>\n<p>8 rows × 44 columns</p>\n</div>"
     },
     "execution_count": 6,
     "metadata": {},
     "output_type": "execute_result"
    }
   ],
   "source": [
    "# Show a description of each col\n",
    "df.describe()"
   ],
   "metadata": {
    "collapsed": false,
    "ExecuteTime": {
     "start_time": "2023-12-10T22:07:20.830554Z"
    }
   },
   "id": "29a5a5e35aaab34b"
  },
  {
   "cell_type": "markdown",
   "source": [
    "Looking at the means, std. deviations, mins, and maxes, of each of our fields we can see that our data needs to be evaluated column by column to determine if each field makes sense. At face value, a mean of 21.8 for Carbohydrates and 37.2 for Cholesterol seems off, but we need to consider the units of each column. \n",
    "\n",
    "Of course, we will treat the Data Bank Number as a surrogate key and disregard its distribution. Similarly, Category and Description are categorical variables and we will them in our unit analysis.\n",
    "\n",
    "Documentation for the dataset is a bit weak. For example, though the first few attributes have clearly defined units in Kaggle, the units for the remaining numeric attributes are not mentioned. Using the source of the data, the USDA FoodData Central, we can compare the values in our dataset to the source of truth and assume the units for each column. To make this simple, we will take the dataset's first entry, Butter [1001](https://fdc.nal.usda.gov/fdc-app.html#/food-details/790508/nutrients). We will assume that the units for each column are the same as the units in the source of truth unless values are off by order(s) of magnitude:\n",
    "\n",
    "**Attribute: Unit**\n",
    "1. Ash: g\n",
    "2. Alpha Carotene: µg\n",
    "3. Beta Carotene: µg\n",
    "4. Beta Cryptoxanthin: µg\n",
    "5. Carbohydrate: g\n",
    "6. Cholesterol: mg\n",
    "7. Choline: mg\n",
    "8. Fat.Monosaturated Fat: g\n",
    "9. Fat.Polysaturated Fat: g\n",
    "10. Fat.Saturated Fat: g\n",
    "11. Fat.Total Lipid: g\n",
    "12. Fiber: g\n",
    "13. Household Weights.1st Household Weight: g\n",
    "14. Kilocalories: kcal\n",
    "15. Lutein and Zeaxanthin: µg\n",
    "16. Lycopene: µg\n",
    "17. Major Minerals.Calcium: mg\n",
    "18. Major Minerals.Copper: mg\n",
    "19. Major Minerals.Iron: mg\n",
    "20. Major Minerals.Magnesium: mg\n",
    "21. Major Minerals.Phosphorus: mg\n",
    "22. Major Minerals.Potassium: mg\n",
    "23. Major Minerals.Sodium: mg\n",
    "24. Major Minerals.Zinc: mg\n",
    "25. Manganese: mg\n",
    "26. Niacin: mg\n",
    "27. Pantothenic Acid: mg\n",
    "28. Protein: g\n",
    "29. Refuse Percentage: % by volume\n",
    "30. Retinol: µg\n",
    "31. Riboflavin: mg\n",
    "32. Selenium: µg\n",
    "33. Sugar Total: g\n",
    "34. Thiamin: mg\n",
    "35. Vitamins.Vitamin A - RAE: µg\n",
    "36. Vitamins.Vitamin B12: µg\n",
    "37. Vitamins.Vitamin B6: µg\n",
    "38. Vitamins.Vitamin C: µg\n",
    "39. Vitamins.Vitamin E: mg\n",
    "40. Vitamins.Vitamin K: µg\n",
    "41. Water: g\n",
    "\n",
    "Below, we can see the data types in this dataset are object (string), float64, and int64."
   ],
   "metadata": {
    "collapsed": false
   },
   "id": "f128abd655de12d2"
  },
  {
   "cell_type": "code",
   "execution_count": null,
   "outputs": [],
   "source": [
    "# Show data types and count of attributes per that type\n",
    "df.dtypes.value_counts()"
   ],
   "metadata": {
    "collapsed": false
   },
   "id": "d1aa8852267f3383"
  },
  {
   "cell_type": "markdown",
   "source": [
    "As we can see below, there are only null values in the two 'Household Weight Description' columns."
   ],
   "metadata": {
    "collapsed": false
   },
   "id": "390af97e7c1938cf"
  },
  {
   "cell_type": "code",
   "execution_count": null,
   "outputs": [],
   "source": [
    "# Find percentage of null values and sort by missing %\n",
    "df.isnull().sum().sort_values(ascending=False) / len(df) * 100"
   ],
   "metadata": {
    "collapsed": false
   },
   "id": "6b03b48fc226aa3d"
  },
  {
   "cell_type": "markdown",
   "source": [
    "Because *2nd Household Weight* and *1st Household Weight* are the same measure expressed in different units and this column has more nulls, we will drop *2nd Household Weight* and it's corresponding *Household Weights.2nd Household Weight Description* below.\n",
    "\n",
    "Also, because Household Weight Description doesn't really tell us anything that the *Household Weights.1st Household Weight* already containes, we will drop *Household Weights.1st Household Weight Description* as well."
   ],
   "metadata": {
    "collapsed": false
   },
   "id": "f4e07f3f4d1b08c6"
  },
  {
   "cell_type": "code",
   "execution_count": null,
   "outputs": [],
   "source": [
    "# Drop 'Household Weight Description' columns\n",
    "df.drop(['Household Weights.2nd Household Weight Description', 'Household Weights.2nd Household Weight','Household Weights.1st Household Weight Description'], axis=1, inplace=True)"
   ],
   "metadata": {
    "collapsed": false
   },
   "id": "563bbfcff200e4d8"
  },
  {
   "cell_type": "markdown",
   "source": [
    "Despite having only non-null values, both categorical and numeric attributes of this dataset have a few \"placeholder\" values. Let's quantify these."
   ],
   "metadata": {
    "collapsed": false
   },
   "id": "e73019d8ca92a2d7"
  },
  {
   "cell_type": "code",
   "execution_count": null,
   "outputs": [],
   "source": [
    "# Find the number of values in the 'Category' column that ci match '%no category%'\n",
    "df[df['Category'].str.contains('no category', case=False)]['Category'].count()/ len(df)"
   ],
   "metadata": {
    "collapsed": false
   },
   "id": "b86cd044f43c0c08"
  },
  {
   "cell_type": "markdown",
   "source": [
    "We can see that the *Category* column has less than 3% of its values labeled 'no category'. This is not a significant amount of data. Because we're trying to predict Kilocalories, and we don't care too much about the taxonomy of food types, we will keep these records.\n",
    "\n",
    "Let's now target the numeric columns. We will look for values that are 0, which are likely placeholders for missing data."
   ],
   "metadata": {
    "collapsed": false
   },
   "id": "6ea9de866145bcd4"
  },
  {
   "cell_type": "code",
   "execution_count": null,
   "outputs": [],
   "source": [
    "# Show the percentage of 0s in each numeric column of the dataset. In another table, show the percentage of 1s in each numeric column of the dataset.\n",
    "df.select_dtypes(include=['float64', 'int64']).apply(lambda x: x[x == 0].count() / len(df)).sort_values(ascending=False)"
   ],
   "metadata": {
    "collapsed": false
   },
   "id": "a81ef7e992b6fdd4"
  },
  {
   "cell_type": "markdown",
   "source": [
    "Because we're dealing with a variety of foods, it makes sense that certain nutrients would be absent, so we will not impute any of these values. However, all foods should have a Weight (g) greater than 0. We will remove all rows where the Weight (g) is 0."
   ],
   "metadata": {
    "collapsed": false
   },
   "id": "a729fafcbb85a74c"
  },
  {
   "cell_type": "code",
   "execution_count": null,
   "outputs": [],
   "source": [
    "# Drop rows where Household Weights.1st Household Weight is 0\n",
    "df = df[df['Household Weights.1st Household Weight'] != 0]"
   ],
   "metadata": {
    "collapsed": false
   },
   "id": "c02223ae9a6d7d16"
  },
  {
   "cell_type": "markdown",
   "source": [
    "Next, let's limit the scope of our dataset to exclude information that gives is found in small quantities in food. We will remove the following columns to simplify our analysis because we don't care about their correlation to KCAL:\n",
    "1. **Alpha Carotene**\n",
    "2. **Beta Carotene**\n",
    "3. **Beta Cryptoxanthin**\n",
    "4. **Lycopene**\n",
    "5. **Lutein and Zeaxanthin**\n",
    "6. **Retinol**\n",
    "7. **Riboflavin**\n",
    "8. **Selinium**\n",
    "9. **Thiamin**\n",
    "10. **Choline**\n",
    "11. **Manganese**\n",
    "12. **Niacin**\n",
    "13. **Pantothenic Acid**\n",
    "14. **Refuse Percentage**"
   ],
   "metadata": {
    "collapsed": false
   },
   "id": "abc102b50b280446"
  },
  {
   "cell_type": "code",
   "execution_count": null,
   "outputs": [],
   "source": [
    "# Drop columns that are not relevant to our analysis\n",
    "df.drop(['Alpha Carotene', 'Beta Carotene', 'Beta Cryptoxanthin', 'Lycopene', 'Lutein and Zeaxanthin', 'Retinol', 'Riboflavin', 'Selenium', 'Thiamin', 'Choline', 'Manganese', 'Niacin', 'Pantothenic Acid', 'Refuse Percentage'], axis=1, inplace=True)"
   ],
   "metadata": {
    "collapsed": false
   },
   "id": "d9d598a94432b51"
  },
  {
   "cell_type": "markdown",
   "source": [
    "We will also drop *Vitamin A - IU* because it is redundant to *Vitamin A - RAE* and the [NIH](https://ods.od.nih.gov/factsheets/VitaminA-HealthProfessional/#:~:text=The%20units%20of%20measurement%20for,beta%2Dcarotene%20%3D%200.3%20mcg%20RAE) recommends using *Vitamin A - RAE* to measure Vitamin A intake."
   ],
   "metadata": {
    "collapsed": false
   },
   "id": "8234811841b2b9a0"
  },
  {
   "cell_type": "code",
   "execution_count": null,
   "outputs": [],
   "source": [
    "# Drop *Vitamin A - IU* because it is redundant with *Vitamin A - RAE*\n",
    "df.drop(['Vitamins.Vitamin A - IU'], axis=1, inplace=True)"
   ],
   "metadata": {
    "collapsed": false
   },
   "id": "146a121910a9a502"
  },
  {
   "cell_type": "markdown",
   "source": [],
   "metadata": {
    "collapsed": false
   },
   "id": "fb4030644f885390"
  },
  {
   "cell_type": "markdown",
   "source": [
    "## Data Profiling\n",
    "Now that we’ve cleaned up the dataset, let’s see the distributions of the numeric variables. We will use a histogram to visualize the distributions of the numeric variables."
   ],
   "metadata": {
    "collapsed": false
   },
   "id": "de02ae23a79b370e"
  },
  {
   "cell_type": "code",
   "execution_count": null,
   "outputs": [],
   "source": [
    "# Add the numeric columns excluding Nutrient Data Bank Number to a list\n",
    "numeric_cols = df.select_dtypes(include=['float64', 'int64']).drop(['Nutrient Data Bank Number'], axis=1)\n",
    "\n",
    "#create a histogram for each numeric column\n",
    "for column in numeric_cols.columns:\n",
    "    sns.set(rc={\"figure.figsize\": (8, 4)})\n",
    "    sns.displot(df[column])\n",
    "    plt.show()"
   ],
   "metadata": {
    "collapsed": false
   },
   "id": "9b1b2844d5679542"
  },
  {
   "cell_type": "markdown",
   "source": [
    "We can see that the distributions of the numeric variables are very right-tailed. This is expected - for example, some foods are very rich in Vitamin A like Cod Liver, while others have none.\n",
    "\n",
    "The only variable that looks roughly normal is *Water*. Let's perform the Shapiro-Wilk test to verify if Water's or any other of the distributions are normal."
   ],
   "metadata": {
    "collapsed": false
   },
   "id": "4cd5f799a0f44262"
  },
  {
   "cell_type": "code",
   "execution_count": null,
   "outputs": [],
   "source": [
    "# Perform the Shapiro-Wilk test on each numeric column excluding Nutrient Data Bank Number\n",
    "for column in numeric_cols.columns:\n",
    "    stat, p = shapiro(df[column])\n",
    "    print('Statistics=%.3f, p=%.3f' % (stat, p))\n",
    "    # interpret\n",
    "    alpha = 0.05\n",
    "    if p > alpha:\n",
    "        print('{} looks Normal (fail to reject H0)'.format(column))\n",
    "    else:\n",
    "        print('{} does not look Normal (reject H0)'.format(column))"
   ],
   "metadata": {
    "collapsed": false
   },
   "id": "7b8f8fdc0a858b70"
  },
  {
   "cell_type": "markdown",
   "source": [
    "As we can see above, none of the distributions are normal. This is expected because the distributions are right-tailed."
   ],
   "metadata": {
    "collapsed": false
   },
   "id": "bbf886ce5008d668"
  },
  {
   "cell_type": "code",
   "execution_count": null,
   "outputs": [],
   "source": [
    "# N"
   ],
   "metadata": {
    "collapsed": false
   },
   "id": "7f77f4d2dc96eb2c"
  },
  {
   "cell_type": "markdown",
   "source": [
    "As we can see above, none of the distributions are normal. This is expected because the distributions are right-tailed."
   ],
   "metadata": {
    "collapsed": false
   },
   "id": "794799f027e9f632"
  }
 ],
 "metadata": {
  "kernelspec": {
   "display_name": "Python 3",
   "language": "python",
   "name": "python3"
  },
  "language_info": {
   "codemirror_mode": {
    "name": "ipython",
    "version": 2
   },
   "file_extension": ".py",
   "mimetype": "text/x-python",
   "name": "python",
   "nbconvert_exporter": "python",
   "pygments_lexer": "ipython2",
   "version": "2.7.6"
  }
 },
 "nbformat": 4,
 "nbformat_minor": 5
}
