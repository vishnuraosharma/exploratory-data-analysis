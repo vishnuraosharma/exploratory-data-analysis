{
 "cells": [
  {
   "cell_type": "markdown",
   "source": [
    "# Food Nutrition Dataset\n",
    "\n",
    "This dataset provides comprehensive information about various food items and their nutritional attributes. It is a valuable resource for nutritionists, dietitians, researchers, and anyone interested in exploring the nutritional content of different foods. The data was collected from various sources and includes details such as food name, serving size, calories, macronutrients (carbohydrates, proteins, and fats), micronutrients (vitamins and minerals), and other nutritional information.\n",
    "\n",
    "## Dataset Overview\n",
    "\n",
    "- **Data Source**: [Kaggle - Food Nutrition Dataset](https://www.kaggle.com/datasets/shrutisaxena/food-nutrition-dataset?resource=download&select=food.csv)\n",
    "- **Number of Records**: 14,826\n",
    "- **File Format**: CSV\n",
    "\n",
    "## Columns\n",
    "\n",
    "The dataset contains the following columns:\n",
    "\n",
    "1. **Food Name**: The name of the food item.\n",
    "2. **Serving Size**: The recommended serving size for the food item.\n",
    "3. **Calories**: The number of calories in the specified serving size.\n",
    "4. **Carbohydrates (g)**: The amount of carbohydrates in grams.\n",
    "5. **Proteins (g)**: The amount of proteins in grams.\n",
    "6. **Fats (g)**: The amount of fats in grams.\n",
    "7. **Fiber (g)**: The dietary fiber content in grams.\n",
    "8. **Sugar (g)**: The amount of sugar in grams.\n",
    "9. **Vitamin A (IU)**: The amount of Vitamin A in International Units (IU).\n",
    "10. **Vitamin C (mg)**: The amount of Vitamin C in milligrams (mg).\n",
    "11. **Calcium (mg)**: The amount of calcium in milligrams (mg).\n",
    "12. **Iron (mg)**: The amount of iron in milligrams (mg).\n",
    "13. **Potassium (mg)**: The amount of potassium in milligrams (mg).\n",
    "14. and more...\n",
    "\n",
    "## Usage\n",
    "\n",
    "This dataset can be used for a variety of purposes, including but not limited to:\n",
    "\n",
    "- Analyzing the nutritional content of different foods.\n",
    "- Creating diet plans and meal recommendations.\n",
    "- Exploring correlations between nutrients in various food items.\n",
    "- Conducting research in the field of nutrition and health.\n",
    "- Developing machine learning models for predicting nutritional values based on food characteristics."
   ],
   "metadata": {
    "collapsed": false
   }
  },
  {
   "cell_type": "code",
   "execution_count": 12,
   "outputs": [],
   "source": [
    "# Importing the necessary libraries\n",
    "import numpy as np\n",
    "import pandas as pd\n",
    "import seaborn as sns\n",
    "import matplotlib.pylab as plt\n",
    "from matplotlib import pyplot\n",
    "from sklearn.model_selection import train_test_split\n",
    "from sklearn.preprocessing import StandardScaler\n",
    "from sklearn.metrics import confusion_matrix\n",
    "from sklearn.metrics import accuracy_score\n",
    "from sklearn.metrics import classification_report\n",
    "from sklearn.metrics import roc_curve, auc\n",
    "from sklearn.model_selection import cross_val_score\n",
    "from sklearn.model_selection import GridSearchCV"
   ],
   "metadata": {
    "collapsed": false,
    "ExecuteTime": {
     "end_time": "2023-09-19T20:16:09.672224Z",
     "start_time": "2023-09-19T20:16:09.641254Z"
    }
   }
  },
  {
   "cell_type": "code",
   "execution_count": 13,
   "outputs": [
    {
     "data": {
      "text/plain": "     Category               Description  Nutrient Data Bank Number  \\\n0      BUTTER          BUTTER,WITH SALT                       1001   \n1      BUTTER  BUTTER,WHIPPED,WITH SALT                       1002   \n2  BUTTER OIL      BUTTER OIL,ANHYDROUS                       1003   \n3      CHEESE               CHEESE,BLUE                       1004   \n4      CHEESE              CHEESE,BRICK                       1005   \n\n   Data.Alpha Carotene  Data.Ash  Data.Beta Carotene  Data.Beta Cryptoxanthin  \\\n0                    0      2.11                 158                        0   \n1                    0      2.11                 158                        0   \n2                    0      0.00                 193                        0   \n3                    0      5.11                  74                        0   \n4                    0      3.18                  76                        0   \n\n   Data.Carbohydrate  Data.Cholesterol  Data.Choline  ...  \\\n0               0.06               215            19  ...   \n1               0.06               219            19  ...   \n2               0.00               256            22  ...   \n3               2.34                75            15  ...   \n4               2.79                94            15  ...   \n\n   Data.Major Minerals.Potassium  Data.Major Minerals.Sodium  \\\n0                             24                         576   \n1                             26                         827   \n2                              5                           2   \n3                            256                        1395   \n4                            136                         560   \n\n   Data.Major Minerals.Zinc  Data.Vitamins.Vitamin A - IU  \\\n0                      0.09                          2499   \n1                      0.05                          2499   \n2                      0.01                          3069   \n3                      2.66                           763   \n4                      2.60                          1080   \n\n   Data.Vitamins.Vitamin A - RAE  Data.Vitamins.Vitamin B12  \\\n0                            684                       0.17   \n1                            684                       0.13   \n2                            840                       0.01   \n3                            198                       1.22   \n4                            292                       1.26   \n\n   Data.Vitamins.Vitamin B6  Data.Vitamins.Vitamin C  Data.Vitamins.Vitamin E  \\\n0                     0.003                      0.0                     2.32   \n1                     0.003                      0.0                     2.32   \n2                     0.001                      0.0                     2.80   \n3                     0.166                      0.0                     0.25   \n4                     0.065                      0.0                     0.26   \n\n   Data.Vitamins.Vitamin K  \n0                      7.0  \n1                      7.0  \n2                      8.6  \n3                      2.4  \n4                      2.5  \n\n[5 rows x 48 columns]",
      "text/html": "<div>\n<style scoped>\n    .dataframe tbody tr th:only-of-type {\n        vertical-align: middle;\n    }\n\n    .dataframe tbody tr th {\n        vertical-align: top;\n    }\n\n    .dataframe thead th {\n        text-align: right;\n    }\n</style>\n<table border=\"1\" class=\"dataframe\">\n  <thead>\n    <tr style=\"text-align: right;\">\n      <th></th>\n      <th>Category</th>\n      <th>Description</th>\n      <th>Nutrient Data Bank Number</th>\n      <th>Data.Alpha Carotene</th>\n      <th>Data.Ash</th>\n      <th>Data.Beta Carotene</th>\n      <th>Data.Beta Cryptoxanthin</th>\n      <th>Data.Carbohydrate</th>\n      <th>Data.Cholesterol</th>\n      <th>Data.Choline</th>\n      <th>...</th>\n      <th>Data.Major Minerals.Potassium</th>\n      <th>Data.Major Minerals.Sodium</th>\n      <th>Data.Major Minerals.Zinc</th>\n      <th>Data.Vitamins.Vitamin A - IU</th>\n      <th>Data.Vitamins.Vitamin A - RAE</th>\n      <th>Data.Vitamins.Vitamin B12</th>\n      <th>Data.Vitamins.Vitamin B6</th>\n      <th>Data.Vitamins.Vitamin C</th>\n      <th>Data.Vitamins.Vitamin E</th>\n      <th>Data.Vitamins.Vitamin K</th>\n    </tr>\n  </thead>\n  <tbody>\n    <tr>\n      <th>0</th>\n      <td>BUTTER</td>\n      <td>BUTTER,WITH SALT</td>\n      <td>1001</td>\n      <td>0</td>\n      <td>2.11</td>\n      <td>158</td>\n      <td>0</td>\n      <td>0.06</td>\n      <td>215</td>\n      <td>19</td>\n      <td>...</td>\n      <td>24</td>\n      <td>576</td>\n      <td>0.09</td>\n      <td>2499</td>\n      <td>684</td>\n      <td>0.17</td>\n      <td>0.003</td>\n      <td>0.0</td>\n      <td>2.32</td>\n      <td>7.0</td>\n    </tr>\n    <tr>\n      <th>1</th>\n      <td>BUTTER</td>\n      <td>BUTTER,WHIPPED,WITH SALT</td>\n      <td>1002</td>\n      <td>0</td>\n      <td>2.11</td>\n      <td>158</td>\n      <td>0</td>\n      <td>0.06</td>\n      <td>219</td>\n      <td>19</td>\n      <td>...</td>\n      <td>26</td>\n      <td>827</td>\n      <td>0.05</td>\n      <td>2499</td>\n      <td>684</td>\n      <td>0.13</td>\n      <td>0.003</td>\n      <td>0.0</td>\n      <td>2.32</td>\n      <td>7.0</td>\n    </tr>\n    <tr>\n      <th>2</th>\n      <td>BUTTER OIL</td>\n      <td>BUTTER OIL,ANHYDROUS</td>\n      <td>1003</td>\n      <td>0</td>\n      <td>0.00</td>\n      <td>193</td>\n      <td>0</td>\n      <td>0.00</td>\n      <td>256</td>\n      <td>22</td>\n      <td>...</td>\n      <td>5</td>\n      <td>2</td>\n      <td>0.01</td>\n      <td>3069</td>\n      <td>840</td>\n      <td>0.01</td>\n      <td>0.001</td>\n      <td>0.0</td>\n      <td>2.80</td>\n      <td>8.6</td>\n    </tr>\n    <tr>\n      <th>3</th>\n      <td>CHEESE</td>\n      <td>CHEESE,BLUE</td>\n      <td>1004</td>\n      <td>0</td>\n      <td>5.11</td>\n      <td>74</td>\n      <td>0</td>\n      <td>2.34</td>\n      <td>75</td>\n      <td>15</td>\n      <td>...</td>\n      <td>256</td>\n      <td>1395</td>\n      <td>2.66</td>\n      <td>763</td>\n      <td>198</td>\n      <td>1.22</td>\n      <td>0.166</td>\n      <td>0.0</td>\n      <td>0.25</td>\n      <td>2.4</td>\n    </tr>\n    <tr>\n      <th>4</th>\n      <td>CHEESE</td>\n      <td>CHEESE,BRICK</td>\n      <td>1005</td>\n      <td>0</td>\n      <td>3.18</td>\n      <td>76</td>\n      <td>0</td>\n      <td>2.79</td>\n      <td>94</td>\n      <td>15</td>\n      <td>...</td>\n      <td>136</td>\n      <td>560</td>\n      <td>2.60</td>\n      <td>1080</td>\n      <td>292</td>\n      <td>1.26</td>\n      <td>0.065</td>\n      <td>0.0</td>\n      <td>0.26</td>\n      <td>2.5</td>\n    </tr>\n  </tbody>\n</table>\n<p>5 rows × 48 columns</p>\n</div>"
     },
     "execution_count": 13,
     "metadata": {},
     "output_type": "execute_result"
    }
   ],
   "source": [
    "#Reading the file into a dataframe and viewing the first few rows\n",
    "df = pd.read_csv('food.csv')\n",
    "df.head()"
   ],
   "metadata": {
    "collapsed": false,
    "ExecuteTime": {
     "end_time": "2023-09-19T20:16:09.701971Z",
     "start_time": "2023-09-19T20:16:09.646171Z"
    }
   }
  },
  {
   "cell_type": "code",
   "execution_count": 14,
   "outputs": [
    {
     "data": {
      "text/plain": "        Category                 Description  Nutrient Data Bank Number  \\\n14821  FROG LEGS               FROG LEGS,RAW                      80200   \n14822   MACKEREL             MACKEREL,SALTED                      83110   \n14823    SCALLOP  SCALLOP,(BAY&SEA),CKD,STMD                      90240   \n14824      SNAIL                   SNAIL,RAW                      90560   \n14825     TURTLE            TURTLE,GREEN,RAW                      93600   \n\n       Data.Alpha Carotene  Data.Ash  Data.Beta Carotene  \\\n14821                    0      1.40                   0   \n14822                    0     13.40                   0   \n14823                    0      3.06                   0   \n14824                    0      1.30                   0   \n14825                    0      1.20                   0   \n\n       Data.Beta Cryptoxanthin  Data.Carbohydrate  Data.Cholesterol  \\\n14821                        0                0.0                50   \n14822                        0                0.0                95   \n14823                        0                0.0                53   \n14824                        0                2.0                50   \n14825                        0                0.0                50   \n\n       Data.Choline  ...  Data.Major Minerals.Potassium  \\\n14821            65  ...                            285   \n14822            95  ...                            520   \n14823            81  ...                            476   \n14824            65  ...                            382   \n14825            65  ...                            230   \n\n       Data.Major Minerals.Sodium  Data.Major Minerals.Zinc  \\\n14821                          58                       1.0   \n14822                        4450                       1.1   \n14823                         265                       3.0   \n14824                          70                       1.0   \n14825                          68                       1.0   \n\n       Data.Vitamins.Vitamin A - IU  Data.Vitamins.Vitamin A - RAE  \\\n14821                            50                             15   \n14822                           157                             47   \n14823                           100                             30   \n14824                           100                             30   \n14825                           100                             30   \n\n       Data.Vitamins.Vitamin B12  Data.Vitamins.Vitamin B6  \\\n14821                        0.4                      0.12   \n14822                       12.0                      0.41   \n14823                        1.3                      0.10   \n14824                        0.5                      0.13   \n14825                        1.0                      0.12   \n\n       Data.Vitamins.Vitamin C  Data.Vitamins.Vitamin E  \\\n14821                      0.0                     1.00   \n14822                      0.0                     2.38   \n14823                      0.0                     1.50   \n14824                      0.0                     5.00   \n14825                      0.0                     0.50   \n\n       Data.Vitamins.Vitamin K  \n14821                      0.1  \n14822                      7.8  \n14823                      0.2  \n14824                      0.1  \n14825                      0.1  \n\n[5 rows x 48 columns]",
      "text/html": "<div>\n<style scoped>\n    .dataframe tbody tr th:only-of-type {\n        vertical-align: middle;\n    }\n\n    .dataframe tbody tr th {\n        vertical-align: top;\n    }\n\n    .dataframe thead th {\n        text-align: right;\n    }\n</style>\n<table border=\"1\" class=\"dataframe\">\n  <thead>\n    <tr style=\"text-align: right;\">\n      <th></th>\n      <th>Category</th>\n      <th>Description</th>\n      <th>Nutrient Data Bank Number</th>\n      <th>Data.Alpha Carotene</th>\n      <th>Data.Ash</th>\n      <th>Data.Beta Carotene</th>\n      <th>Data.Beta Cryptoxanthin</th>\n      <th>Data.Carbohydrate</th>\n      <th>Data.Cholesterol</th>\n      <th>Data.Choline</th>\n      <th>...</th>\n      <th>Data.Major Minerals.Potassium</th>\n      <th>Data.Major Minerals.Sodium</th>\n      <th>Data.Major Minerals.Zinc</th>\n      <th>Data.Vitamins.Vitamin A - IU</th>\n      <th>Data.Vitamins.Vitamin A - RAE</th>\n      <th>Data.Vitamins.Vitamin B12</th>\n      <th>Data.Vitamins.Vitamin B6</th>\n      <th>Data.Vitamins.Vitamin C</th>\n      <th>Data.Vitamins.Vitamin E</th>\n      <th>Data.Vitamins.Vitamin K</th>\n    </tr>\n  </thead>\n  <tbody>\n    <tr>\n      <th>14821</th>\n      <td>FROG LEGS</td>\n      <td>FROG LEGS,RAW</td>\n      <td>80200</td>\n      <td>0</td>\n      <td>1.40</td>\n      <td>0</td>\n      <td>0</td>\n      <td>0.0</td>\n      <td>50</td>\n      <td>65</td>\n      <td>...</td>\n      <td>285</td>\n      <td>58</td>\n      <td>1.0</td>\n      <td>50</td>\n      <td>15</td>\n      <td>0.4</td>\n      <td>0.12</td>\n      <td>0.0</td>\n      <td>1.00</td>\n      <td>0.1</td>\n    </tr>\n    <tr>\n      <th>14822</th>\n      <td>MACKEREL</td>\n      <td>MACKEREL,SALTED</td>\n      <td>83110</td>\n      <td>0</td>\n      <td>13.40</td>\n      <td>0</td>\n      <td>0</td>\n      <td>0.0</td>\n      <td>95</td>\n      <td>95</td>\n      <td>...</td>\n      <td>520</td>\n      <td>4450</td>\n      <td>1.1</td>\n      <td>157</td>\n      <td>47</td>\n      <td>12.0</td>\n      <td>0.41</td>\n      <td>0.0</td>\n      <td>2.38</td>\n      <td>7.8</td>\n    </tr>\n    <tr>\n      <th>14823</th>\n      <td>SCALLOP</td>\n      <td>SCALLOP,(BAY&amp;SEA),CKD,STMD</td>\n      <td>90240</td>\n      <td>0</td>\n      <td>3.06</td>\n      <td>0</td>\n      <td>0</td>\n      <td>0.0</td>\n      <td>53</td>\n      <td>81</td>\n      <td>...</td>\n      <td>476</td>\n      <td>265</td>\n      <td>3.0</td>\n      <td>100</td>\n      <td>30</td>\n      <td>1.3</td>\n      <td>0.10</td>\n      <td>0.0</td>\n      <td>1.50</td>\n      <td>0.2</td>\n    </tr>\n    <tr>\n      <th>14824</th>\n      <td>SNAIL</td>\n      <td>SNAIL,RAW</td>\n      <td>90560</td>\n      <td>0</td>\n      <td>1.30</td>\n      <td>0</td>\n      <td>0</td>\n      <td>2.0</td>\n      <td>50</td>\n      <td>65</td>\n      <td>...</td>\n      <td>382</td>\n      <td>70</td>\n      <td>1.0</td>\n      <td>100</td>\n      <td>30</td>\n      <td>0.5</td>\n      <td>0.13</td>\n      <td>0.0</td>\n      <td>5.00</td>\n      <td>0.1</td>\n    </tr>\n    <tr>\n      <th>14825</th>\n      <td>TURTLE</td>\n      <td>TURTLE,GREEN,RAW</td>\n      <td>93600</td>\n      <td>0</td>\n      <td>1.20</td>\n      <td>0</td>\n      <td>0</td>\n      <td>0.0</td>\n      <td>50</td>\n      <td>65</td>\n      <td>...</td>\n      <td>230</td>\n      <td>68</td>\n      <td>1.0</td>\n      <td>100</td>\n      <td>30</td>\n      <td>1.0</td>\n      <td>0.12</td>\n      <td>0.0</td>\n      <td>0.50</td>\n      <td>0.1</td>\n    </tr>\n  </tbody>\n</table>\n<p>5 rows × 48 columns</p>\n</div>"
     },
     "execution_count": 14,
     "metadata": {},
     "output_type": "execute_result"
    }
   ],
   "source": [
    "#Viewing last few rows in file\n",
    "df.tail()"
   ],
   "metadata": {
    "collapsed": false,
    "ExecuteTime": {
     "end_time": "2023-09-19T20:16:09.709344Z",
     "start_time": "2023-09-19T20:16:09.707229Z"
    }
   }
  },
  {
   "cell_type": "markdown",
   "source": [],
   "metadata": {
    "collapsed": false
   }
  },
  {
   "cell_type": "markdown",
   "source": [
    "## Dataset Drilldown\n",
    "Each row represents a food type; the *Description* column contains a breakdown of the few ingredients that comprise the dish or food as well as details of how it was prepared. It's columns are shown in the cell below:"
   ],
   "metadata": {
    "collapsed": false
   }
  },
  {
   "cell_type": "code",
   "execution_count": 15,
   "outputs": [
    {
     "name": "stdout",
     "output_type": "stream",
     "text": [
      "<class 'pandas.core.frame.DataFrame'>\n",
      "RangeIndex: 14826 entries, 0 to 14825\n",
      "Data columns (total 48 columns):\n",
      " #   Column                                                   Non-Null Count  Dtype  \n",
      "---  ------                                                   --------------  -----  \n",
      " 0   Category                                                 14826 non-null  object \n",
      " 1   Description                                              14826 non-null  object \n",
      " 2   Nutrient Data Bank Number                                14826 non-null  int64  \n",
      " 3   Data.Alpha Carotene                                      14826 non-null  int64  \n",
      " 4   Data.Ash                                                 14826 non-null  float64\n",
      " 5   Data.Beta Carotene                                       14826 non-null  int64  \n",
      " 6   Data.Beta Cryptoxanthin                                  14826 non-null  int64  \n",
      " 7   Data.Carbohydrate                                        14826 non-null  float64\n",
      " 8   Data.Cholesterol                                         14826 non-null  int64  \n",
      " 9   Data.Choline                                             14826 non-null  int64  \n",
      " 10  Data.Fiber                                               14826 non-null  float64\n",
      " 11  Data.Kilocalories                                        14826 non-null  int64  \n",
      " 12  Data.Lutein and Zeaxanthin                               14826 non-null  int64  \n",
      " 13  Data.Lycopene                                            14826 non-null  int64  \n",
      " 14  Data.Manganese                                           14826 non-null  float64\n",
      " 15  Data.Niacin                                              14826 non-null  float64\n",
      " 16  Data.Pantothenic Acid                                    14826 non-null  float64\n",
      " 17  Data.Protein                                             14826 non-null  float64\n",
      " 18  Data.Refuse Percentage                                   14826 non-null  int64  \n",
      " 19  Data.Retinol                                             14826 non-null  int64  \n",
      " 20  Data.Riboflavin                                          14826 non-null  float64\n",
      " 21  Data.Selenium                                            14826 non-null  float64\n",
      " 22  Data.Sugar Total                                         14826 non-null  float64\n",
      " 23  Data.Thiamin                                             14826 non-null  float64\n",
      " 24  Data.Water                                               14826 non-null  float64\n",
      " 25  Data.Fat.Monosaturated Fat                               14826 non-null  float64\n",
      " 26  Data.Fat.Polysaturated Fat                               14826 non-null  float64\n",
      " 27  Data.Fat.Saturated Fat                                   14826 non-null  float64\n",
      " 28  Data.Fat.Total Lipid                                     14826 non-null  float64\n",
      " 29  Data.Household Weights.1st Household Weight              14826 non-null  float64\n",
      " 30  Data.Household Weights.1st Household Weight Description  13886 non-null  object \n",
      " 31  Data.Household Weights.2nd Household Weight              14826 non-null  int64  \n",
      " 32  Data.Household Weights.2nd Household Weight Description  8626 non-null   object \n",
      " 33  Data.Major Minerals.Calcium                              14826 non-null  int64  \n",
      " 34  Data.Major Minerals.Copper                               14826 non-null  float64\n",
      " 35  Data.Major Minerals.Iron                                 14826 non-null  float64\n",
      " 36  Data.Major Minerals.Magnesium                            14826 non-null  int64  \n",
      " 37  Data.Major Minerals.Phosphorus                           14826 non-null  int64  \n",
      " 38  Data.Major Minerals.Potassium                            14826 non-null  int64  \n",
      " 39  Data.Major Minerals.Sodium                               14826 non-null  int64  \n",
      " 40  Data.Major Minerals.Zinc                                 14826 non-null  float64\n",
      " 41  Data.Vitamins.Vitamin A - IU                             14826 non-null  int64  \n",
      " 42  Data.Vitamins.Vitamin A - RAE                            14826 non-null  int64  \n",
      " 43  Data.Vitamins.Vitamin B12                                14826 non-null  float64\n",
      " 44  Data.Vitamins.Vitamin B6                                 14826 non-null  float64\n",
      " 45  Data.Vitamins.Vitamin C                                  14826 non-null  float64\n",
      " 46  Data.Vitamins.Vitamin E                                  14826 non-null  float64\n",
      " 47  Data.Vitamins.Vitamin K                                  14826 non-null  float64\n",
      "dtypes: float64(25), int64(19), object(4)\n",
      "memory usage: 5.4+ MB\n"
     ]
    }
   ],
   "source": [
    "#Show the columns and data types in the dataset\n",
    "df.info()"
   ],
   "metadata": {
    "collapsed": false,
    "ExecuteTime": {
     "end_time": "2023-09-19T20:16:09.721754Z",
     "start_time": "2023-09-19T20:16:09.710457Z"
    }
   }
  },
  {
   "cell_type": "code",
   "execution_count": 16,
   "outputs": [],
   "source": [
    "# Loop through columns and remove redundant 'Data.' from column names\n",
    "for col in df.columns:\n",
    "    new_col = col.replace('Data.', '')  # Remove 'Data.' from the column name\n",
    "    df.rename(columns={col: new_col}, inplace=True)  # Rename the column name in dataframe"
   ],
   "metadata": {
    "collapsed": false,
    "ExecuteTime": {
     "end_time": "2023-09-19T20:16:09.768259Z",
     "start_time": "2023-09-19T20:16:09.725587Z"
    }
   }
  },
  {
   "cell_type": "code",
   "execution_count": 17,
   "outputs": [
    {
     "data": {
      "text/plain": "Household Weights.2nd Household Weight Description    6200\nHousehold Weights.1st Household Weight Description     940\nCategory                                                 0\nDescription                                              0\nFat.Polysaturated Fat                                    0\nFat.Saturated Fat                                        0\nFat.Total Lipid                                          0\nHousehold Weights.1st Household Weight                   0\nHousehold Weights.2nd Household Weight                   0\nMajor Minerals.Calcium                                   0\nMajor Minerals.Copper                                    0\nMajor Minerals.Iron                                      0\nMajor Minerals.Magnesium                                 0\nMajor Minerals.Phosphorus                                0\nMajor Minerals.Potassium                                 0\nMajor Minerals.Sodium                                    0\nMajor Minerals.Zinc                                      0\nVitamins.Vitamin A - IU                                  0\nVitamins.Vitamin A - RAE                                 0\nVitamins.Vitamin B12                                     0\nVitamins.Vitamin B6                                      0\nVitamins.Vitamin C                                       0\nVitamins.Vitamin E                                       0\nFat.Monosaturated Fat                                    0\nWater                                                    0\nThiamin                                                  0\nKilocalories                                             0\nNutrient Data Bank Number                                0\nAlpha Carotene                                           0\nAsh                                                      0\nBeta Carotene                                            0\nBeta Cryptoxanthin                                       0\nCarbohydrate                                             0\nCholesterol                                              0\nCholine                                                  0\nFiber                                                    0\nLutein and Zeaxanthin                                    0\nSugar Total                                              0\nLycopene                                                 0\nManganese                                                0\nNiacin                                                   0\nPantothenic Acid                                         0\nProtein                                                  0\nRefuse Percentage                                        0\nRetinol                                                  0\nRiboflavin                                               0\nSelenium                                                 0\nVitamins.Vitamin K                                       0\ndtype: int64"
     },
     "execution_count": 17,
     "metadata": {},
     "output_type": "execute_result"
    }
   ],
   "source": [
    "# Checking if any data is missing and sorting by missing values\n",
    "df.isnull().sum().sort_values(ascending=False)"
   ],
   "metadata": {
    "collapsed": false,
    "ExecuteTime": {
     "end_time": "2023-09-19T20:16:09.778122Z",
     "start_time": "2023-09-19T20:16:09.727526Z"
    }
   }
  },
  {
   "cell_type": "markdown",
   "source": [
    "## Acknowledgements\n",
    "\n",
    "I would like to thank [Shruti Saxena](https://www.kaggle.com/shrutisaxena) for sharing this dataset on Kaggle.\n"
   ],
   "metadata": {
    "collapsed": false
   }
  }
 ],
 "metadata": {
  "kernelspec": {
   "display_name": "Python 3 (ipykernel)",
   "language": "python",
   "name": "python3"
  },
  "language_info": {
   "codemirror_mode": {
    "name": "ipython",
    "version": 3
   },
   "file_extension": ".py",
   "mimetype": "text/x-python",
   "name": "python",
   "nbconvert_exporter": "python",
   "pygments_lexer": "ipython3",
   "version": "3.11.4"
  }
 },
 "nbformat": 4,
 "nbformat_minor": 5
}
